{
 "cells": [
  {
   "cell_type": "code",
   "execution_count": 1,
   "id": "e53b77ee-1b76-49c9-97ad-ae880a226132",
   "metadata": {},
   "outputs": [
    {
     "name": "stderr",
     "output_type": "stream",
     "text": [
      "/var/folders/x6/7z03llzd6tv506jmg9k6xsxc0000gn/T/ipykernel_92063/2063911945.py:2: DeprecationWarning: \n",
      "Pyarrow will become a required dependency of pandas in the next major release of pandas (pandas 3.0),\n",
      "(to allow more performant data types, such as the Arrow string type, and better interoperability with other libraries)\n",
      "but was not found to be installed on your system.\n",
      "If this would cause problems for you,\n",
      "please provide us feedback at https://github.com/pandas-dev/pandas/issues/54466\n",
      "        \n",
      "  import pandas as pd\n"
     ]
    }
   ],
   "source": [
    "import numpy as np\n",
    "import pandas as pd\n",
    "from src.etl import Data\n",
    "from src.classes import Vehicle\n",
    "\n",
    "from matplotlib import pyplot as plt\n",
    "from src.continuous_approximation.continuous_approximation import ContinuousApproximation as CA_2\n",
    "from src.continuous_approximation.fleet_size import ContinuousApproximationConfig as CA_1\n",
    "from src.continuous_approximation.fleet_size import get_cost_from_continuous_approximation"
   ]
  },
  {
   "cell_type": "markdown",
   "id": "85839fa3-b6fd-4056-972e-d2d48c782e87",
   "metadata": {},
   "source": [
    "# Params\n",
    "###  Vehicles Configuration"
   ]
  },
  {
   "cell_type": "code",
   "execution_count": 2,
   "id": "51529dd7-45c0-4571-9c2e-eb45239f2706",
   "metadata": {},
   "outputs": [],
   "source": [
    "small_config = {\n",
    "    \"id_vehicle\": 'van',\n",
    "    \"type_vehicle\": \"small\",\n",
    "    \"capacity\": 115,\n",
    "    \"cost_fixed\": 67,\n",
    "    \"time_prep\": 5/60,\n",
    "    \"time_loading_per_item\": 0.067/60,\n",
    "    \"time_set_up\": 2/60,\n",
    "    \"time_service\": 1/60,\n",
    "    \"speed_linehaul\": 60,\n",
    "    \"speed_interstop\": 35,\n",
    "    \"t_max\": 12,\n",
    "    \"cost_hourly\": 5.39,\n",
    "    \"cost_km\": 2.55,    \n",
    "    \"cost_item\": 0.5,\n",
    "}\n",
    "large_config = {\n",
    "    \"id_vehicle\": 'truck',\n",
    "    \"type_vehicle\": \"large\",\n",
    "    \"capacity\": 460,\n",
    "    \"cost_fixed\": 268,\n",
    "    \"time_prep\": 10/60,\n",
    "    \"time_loading_per_item\": 0.05/60,\n",
    "    \"time_set_up\": 2/60,\n",
    "    \"time_service\": 2/60,\n",
    "    \"speed_linehaul\": 45,\n",
    "    \"speed_interstop\": 25,\n",
    "    \"t_max\": 12,\n",
    "    \"cost_hourly\": 5,\n",
    "    \"cost_km\": 58,    \n",
    "    \"cost_item\": 0.5,\n",
    "}"
   ]
  },
  {
   "cell_type": "code",
   "execution_count": 3,
   "id": "808a54ae-b239-41f5-ab47-9e162c2f254c",
   "metadata": {},
   "outputs": [],
   "source": [
    "small = Vehicle(**small_config)\n",
    "large = Vehicle(**large_config)\n",
    "vehicles = {'small':small, 'large': large}"
   ]
  },
  {
   "cell_type": "markdown",
   "id": "adc74b21-08e2-4839-bbd3-f25ba9a74517",
   "metadata": {},
   "source": [
    "### Get Satellites, Pixels(expected) and Distance-matrix"
   ]
  },
  {
   "cell_type": "code",
   "execution_count": 4,
   "id": "53a29e85-61a0-461c-b8aa-00944a1606cb",
   "metadata": {},
   "outputs": [],
   "source": [
    "satellites = Data.load_satellites()"
   ]
  },
  {
   "cell_type": "code",
   "execution_count": 5,
   "id": "1da15325-d5d5-432a-a9ab-915d85882825",
   "metadata": {},
   "outputs": [],
   "source": [
    "pixels = Data.load_scenario(\"expected\")"
   ]
  },
  {
   "cell_type": "code",
   "execution_count": 6,
   "id": "b7b62811-425b-420b-be67-560be330e68c",
   "metadata": {},
   "outputs": [],
   "source": [
    "distances = {\n",
    "    \"dc\": Data.load_matrix_from_dc()[\"distance\"],\n",
    "    \"satellite\": Data.load_matrix_from_satellite()[\"distance\"]\n",
    "}"
   ]
  },
  {
   "cell_type": "markdown",
   "id": "2a3e5ca3-31b4-46d2-93b7-380cf8d576da",
   "metadata": {},
   "source": [
    "# 1. Fleet Size"
   ]
  },
  {
   "cell_type": "markdown",
   "id": "27173158-26e2-4e36-bbfe-18dbd808940d",
   "metadata": {},
   "source": [
    "## OLD CA"
   ]
  },
  {
   "cell_type": "code",
   "execution_count": 7,
   "id": "160bd2bf-008f-4cf1-bce8-1f73dcc3e4fc",
   "metadata": {},
   "outputs": [],
   "source": [
    "ca_old = CA_1(periods=12, small_vehicle=small, large_vehicle=large)"
   ]
  },
  {
   "cell_type": "code",
   "execution_count": 8,
   "id": "0cc28aba-b7f8-44ad-b43d-94c0dcb07d10",
   "metadata": {},
   "outputs": [],
   "source": [
    "fleet_size_old = {}\n",
    "fleet_size_old[\"dc\"] =  ca_old.calculate_avg_fleet_size_from_dc(pixels=pixels, distances_line_haul = distances[\"dc\"])\n",
    "fleet_size_old[\"satellite\"] =  ca_old.calculate_avg_fleet_size_from_satellites(pixels=pixels, distances_line_haul = distances[\"satellite\"], satellites=satellites)"
   ]
  },
  {
   "cell_type": "markdown",
   "id": "6665d57c-2550-499e-9053-f0aadd4ca901",
   "metadata": {},
   "source": [
    "### A. Total Num of vehicles large requiered\n",
    "Considering only DC"
   ]
  },
  {
   "cell_type": "code",
   "execution_count": 9,
   "id": "aa9fd607-7aa8-4a6c-97f0-6ecc4df5ca05",
   "metadata": {},
   "outputs": [],
   "source": [
    "n_by_period_old = []\n",
    "for t in range(12):\n",
    "    total = np.sum([\n",
    "        fleet_size_old[\"dc\"][key][\"fleet_size\"] for key in fleet_size_old[\"dc\"] if t in key\n",
    "    ])\n",
    "    n_by_period_old.append(total)"
   ]
  },
  {
   "cell_type": "code",
   "execution_count": 10,
   "id": "88039b1d-fb2d-4cb7-a4fd-c3ecbfc0e695",
   "metadata": {},
   "outputs": [
    {
     "data": {
      "text/plain": [
       "[83.86594714823647,\n",
       " 82.31874077525472,\n",
       " 82.99730469189596,\n",
       " 83.68003385225381,\n",
       " 82.11036931248205,\n",
       " 86.01209996041446,\n",
       " 83.09910047485062,\n",
       " 84.39626496080186,\n",
       " 84.0951098765454,\n",
       " 85.38103529551299,\n",
       " 84.9085902744801,\n",
       " 89.4725560005237]"
      ]
     },
     "execution_count": 10,
     "metadata": {},
     "output_type": "execute_result"
    }
   ],
   "source": [
    "n_by_period_old"
   ]
  },
  {
   "cell_type": "markdown",
   "id": "740c73cb-bc7a-4dd2-af54-0233e53e309f",
   "metadata": {},
   "source": [
    "Considering each satellite"
   ]
  },
  {
   "cell_type": "code",
   "execution_count": 11,
   "id": "490abab4-3e7a-4fec-ae3c-5fdf56dffbcb",
   "metadata": {},
   "outputs": [],
   "source": [
    "n_by_satellite_period_old = {}\n",
    "for s in satellites.keys():\n",
    "    by_period = []\n",
    "    for t in range(12):\n",
    "        total = np.sum([\n",
    "            fleet_size_old[\"satellite\"][key][\"fleet_size\"] for key in fleet_size_old[\"satellite\"] if t in key and s in key\n",
    "        ])\n",
    "        by_period.append(total)\n",
    "    n_by_satellite_period_old[s] = by_period"
   ]
  },
  {
   "cell_type": "code",
   "execution_count": 12,
   "id": "f6ddbf25-2866-40d7-ab41-d5c632d88511",
   "metadata": {},
   "outputs": [
    {
     "data": {
      "text/html": [
       "<div>\n",
       "<style scoped>\n",
       "    .dataframe tbody tr th:only-of-type {\n",
       "        vertical-align: middle;\n",
       "    }\n",
       "\n",
       "    .dataframe tbody tr th {\n",
       "        vertical-align: top;\n",
       "    }\n",
       "\n",
       "    .dataframe thead th {\n",
       "        text-align: right;\n",
       "    }\n",
       "</style>\n",
       "<table border=\"1\" class=\"dataframe\">\n",
       "  <thead>\n",
       "    <tr style=\"text-align: right;\">\n",
       "      <th></th>\n",
       "      <th>Abaroa</th>\n",
       "      <th>Llojeta</th>\n",
       "      <th>Cota_Cota</th>\n",
       "      <th>Achachicala</th>\n",
       "      <th>Mallasa</th>\n",
       "      <th>Sopocachi</th>\n",
       "      <th>Periferica</th>\n",
       "      <th>Zona_Cementerio</th>\n",
       "      <th>Los_Pinos</th>\n",
       "    </tr>\n",
       "  </thead>\n",
       "  <tbody>\n",
       "    <tr>\n",
       "      <th>0</th>\n",
       "      <td>51.972171</td>\n",
       "      <td>52.953058</td>\n",
       "      <td>54.121565</td>\n",
       "      <td>52.429805</td>\n",
       "      <td>54.443275</td>\n",
       "      <td>52.017756</td>\n",
       "      <td>52.507933</td>\n",
       "      <td>52.415620</td>\n",
       "      <td>53.409556</td>\n",
       "    </tr>\n",
       "    <tr>\n",
       "      <th>1</th>\n",
       "      <td>51.118579</td>\n",
       "      <td>52.078389</td>\n",
       "      <td>53.224181</td>\n",
       "      <td>51.565555</td>\n",
       "      <td>53.539669</td>\n",
       "      <td>51.163195</td>\n",
       "      <td>51.641999</td>\n",
       "      <td>51.551709</td>\n",
       "      <td>52.527296</td>\n",
       "    </tr>\n",
       "    <tr>\n",
       "      <th>2</th>\n",
       "      <td>51.483682</td>\n",
       "      <td>52.456281</td>\n",
       "      <td>53.620698</td>\n",
       "      <td>51.930835</td>\n",
       "      <td>53.939575</td>\n",
       "      <td>51.527406</td>\n",
       "      <td>52.009199</td>\n",
       "      <td>51.916735</td>\n",
       "      <td>52.915631</td>\n",
       "    </tr>\n",
       "    <tr>\n",
       "      <th>3</th>\n",
       "      <td>51.855770</td>\n",
       "      <td>52.837511</td>\n",
       "      <td>54.011835</td>\n",
       "      <td>52.308190</td>\n",
       "      <td>54.333681</td>\n",
       "      <td>51.900130</td>\n",
       "      <td>52.387154</td>\n",
       "      <td>52.293960</td>\n",
       "      <td>53.300011</td>\n",
       "    </tr>\n",
       "    <tr>\n",
       "      <th>4</th>\n",
       "      <td>51.002458</td>\n",
       "      <td>51.961085</td>\n",
       "      <td>53.107692</td>\n",
       "      <td>51.445670</td>\n",
       "      <td>53.422491</td>\n",
       "      <td>51.046235</td>\n",
       "      <td>51.522496</td>\n",
       "      <td>51.431811</td>\n",
       "      <td>52.412218</td>\n",
       "    </tr>\n",
       "    <tr>\n",
       "      <th>5</th>\n",
       "      <td>53.101007</td>\n",
       "      <td>54.115658</td>\n",
       "      <td>55.329254</td>\n",
       "      <td>53.570821</td>\n",
       "      <td>55.662711</td>\n",
       "      <td>53.147567</td>\n",
       "      <td>53.652001</td>\n",
       "      <td>53.556169</td>\n",
       "      <td>54.592934</td>\n",
       "    </tr>\n",
       "    <tr>\n",
       "      <th>6</th>\n",
       "      <td>51.542981</td>\n",
       "      <td>52.512779</td>\n",
       "      <td>53.668882</td>\n",
       "      <td>51.996713</td>\n",
       "      <td>53.987786</td>\n",
       "      <td>51.588557</td>\n",
       "      <td>52.073651</td>\n",
       "      <td>51.982739</td>\n",
       "      <td>52.964411</td>\n",
       "    </tr>\n",
       "    <tr>\n",
       "      <th>7</th>\n",
       "      <td>52.250124</td>\n",
       "      <td>53.239707</td>\n",
       "      <td>54.420178</td>\n",
       "      <td>52.710326</td>\n",
       "      <td>54.744842</td>\n",
       "      <td>52.295816</td>\n",
       "      <td>52.789328</td>\n",
       "      <td>52.696015</td>\n",
       "      <td>53.702012</td>\n",
       "    </tr>\n",
       "    <tr>\n",
       "      <th>8</th>\n",
       "      <td>52.060960</td>\n",
       "      <td>53.048701</td>\n",
       "      <td>54.231300</td>\n",
       "      <td>52.517459</td>\n",
       "      <td>54.556086</td>\n",
       "      <td>52.106146</td>\n",
       "      <td>52.596571</td>\n",
       "      <td>52.503202</td>\n",
       "      <td>53.514552</td>\n",
       "    </tr>\n",
       "    <tr>\n",
       "      <th>9</th>\n",
       "      <td>52.755214</td>\n",
       "      <td>53.761636</td>\n",
       "      <td>54.966688</td>\n",
       "      <td>53.219973</td>\n",
       "      <td>55.297508</td>\n",
       "      <td>52.801143</td>\n",
       "      <td>53.300648</td>\n",
       "      <td>53.205438</td>\n",
       "      <td>54.236478</td>\n",
       "    </tr>\n",
       "    <tr>\n",
       "      <th>10</th>\n",
       "      <td>52.496627</td>\n",
       "      <td>53.491780</td>\n",
       "      <td>54.678735</td>\n",
       "      <td>52.965025</td>\n",
       "      <td>55.007324</td>\n",
       "      <td>52.544378</td>\n",
       "      <td>53.043380</td>\n",
       "      <td>52.950772</td>\n",
       "      <td>53.954920</td>\n",
       "    </tr>\n",
       "    <tr>\n",
       "      <th>11</th>\n",
       "      <td>54.946514</td>\n",
       "      <td>56.011392</td>\n",
       "      <td>57.287140</td>\n",
       "      <td>55.440251</td>\n",
       "      <td>57.638239</td>\n",
       "      <td>54.995838</td>\n",
       "      <td>55.525173</td>\n",
       "      <td>55.424939</td>\n",
       "      <td>56.513818</td>\n",
       "    </tr>\n",
       "  </tbody>\n",
       "</table>\n",
       "</div>"
      ],
      "text/plain": [
       "       Abaroa    Llojeta  Cota_Cota  Achachicala    Mallasa  Sopocachi  \\\n",
       "0   51.972171  52.953058  54.121565    52.429805  54.443275  52.017756   \n",
       "1   51.118579  52.078389  53.224181    51.565555  53.539669  51.163195   \n",
       "2   51.483682  52.456281  53.620698    51.930835  53.939575  51.527406   \n",
       "3   51.855770  52.837511  54.011835    52.308190  54.333681  51.900130   \n",
       "4   51.002458  51.961085  53.107692    51.445670  53.422491  51.046235   \n",
       "5   53.101007  54.115658  55.329254    53.570821  55.662711  53.147567   \n",
       "6   51.542981  52.512779  53.668882    51.996713  53.987786  51.588557   \n",
       "7   52.250124  53.239707  54.420178    52.710326  54.744842  52.295816   \n",
       "8   52.060960  53.048701  54.231300    52.517459  54.556086  52.106146   \n",
       "9   52.755214  53.761636  54.966688    53.219973  55.297508  52.801143   \n",
       "10  52.496627  53.491780  54.678735    52.965025  55.007324  52.544378   \n",
       "11  54.946514  56.011392  57.287140    55.440251  57.638239  54.995838   \n",
       "\n",
       "    Periferica  Zona_Cementerio  Los_Pinos  \n",
       "0    52.507933        52.415620  53.409556  \n",
       "1    51.641999        51.551709  52.527296  \n",
       "2    52.009199        51.916735  52.915631  \n",
       "3    52.387154        52.293960  53.300011  \n",
       "4    51.522496        51.431811  52.412218  \n",
       "5    53.652001        53.556169  54.592934  \n",
       "6    52.073651        51.982739  52.964411  \n",
       "7    52.789328        52.696015  53.702012  \n",
       "8    52.596571        52.503202  53.514552  \n",
       "9    53.300648        53.205438  54.236478  \n",
       "10   53.043380        52.950772  53.954920  \n",
       "11   55.525173        55.424939  56.513818  "
      ]
     },
     "execution_count": 12,
     "metadata": {},
     "output_type": "execute_result"
    }
   ],
   "source": [
    "pd.DataFrame(n_by_satellite_period_old)"
   ]
  },
  {
   "cell_type": "markdown",
   "id": "ca56150c-b220-4fed-b385-cae0d76f2952",
   "metadata": {},
   "source": [
    "## NEW CA"
   ]
  },
  {
   "cell_type": "code",
   "execution_count": 13,
   "id": "cc88ff4c-6a22-4ac1-924e-6669a40cd780",
   "metadata": {},
   "outputs": [],
   "source": [
    "ca_new = CA_2(\n",
    "    periods=12,\n",
    "    vehicles={\"small\":small, \"large\":large},\n",
    "    satellites=satellites,\n",
    "    matrixes=distances\n",
    ")"
   ]
  },
  {
   "cell_type": "code",
   "execution_count": 14,
   "id": "3ac05ce0-3758-4c43-b004-ac567cdc3bfa",
   "metadata": {},
   "outputs": [],
   "source": [
    "fleet_size_new = {}\n",
    "fleet_size_new[\"dc\"] =  ca_new.get_average_fleet_size(pixels=pixels, echelon=\"dc\")\n",
    "fleet_size_new[\"satellite\"] =  ca_new.get_average_fleet_size(pixels=pixels, echelon=\"satellite\")"
   ]
  },
  {
   "cell_type": "markdown",
   "id": "ae921b8b-37f2-4f21-8a0e-2ae88ef78491",
   "metadata": {},
   "source": [
    "### A. Total Num of vehicles large requiered\n",
    "Considering only DC"
   ]
  },
  {
   "cell_type": "code",
   "execution_count": 15,
   "id": "4289eb1a-ff7c-4e43-9679-a5c4a97c08d4",
   "metadata": {},
   "outputs": [],
   "source": [
    "n_by_period_new = []\n",
    "for t in range(12):\n",
    "    total = np.sum([\n",
    "        fleet_size_new[\"dc\"][key][\"fleet_size\"] for key in fleet_size_new[\"dc\"] if t in key\n",
    "    ])\n",
    "    n_by_period_new.append(total)"
   ]
  },
  {
   "cell_type": "code",
   "execution_count": 16,
   "id": "1b990060-bc23-4026-baa9-7e45b2c2a256",
   "metadata": {},
   "outputs": [
    {
     "data": {
      "text/plain": [
       "[83.53378273650485,\n",
       " 81.98847414938822,\n",
       " 82.66773391330962,\n",
       " 83.35106027671159,\n",
       " 81.78011847087296,\n",
       " 85.69228654608733,\n",
       " 82.76995097612406,\n",
       " 84.0673340829657,\n",
       " 83.77265654378397,\n",
       " 85.06115154218787,\n",
       " 84.59036796540045,\n",
       " 89.1663812351457]"
      ]
     },
     "execution_count": 16,
     "metadata": {},
     "output_type": "execute_result"
    }
   ],
   "source": [
    "n_by_period_new"
   ]
  },
  {
   "cell_type": "markdown",
   "id": "f51c25b1-3576-45d6-a7e8-d7c11c939677",
   "metadata": {},
   "source": [
    "Considering each satellite"
   ]
  },
  {
   "cell_type": "code",
   "execution_count": 17,
   "id": "b352ded0-84c1-4aed-9305-b7ec4a842ca7",
   "metadata": {},
   "outputs": [],
   "source": [
    "n_by_satellite_period_new = {}\n",
    "for s in satellites.keys():\n",
    "    by_period = []\n",
    "    for t in range(12):\n",
    "        total = np.sum([\n",
    "            fleet_size_new[\"satellite\"][key][\"fleet_size\"] for key in fleet_size_new[\"satellite\"] if t in key and s in key\n",
    "        ])\n",
    "        by_period.append(total)\n",
    "    n_by_satellite_period_new[s] = by_period"
   ]
  },
  {
   "cell_type": "code",
   "execution_count": 18,
   "id": "46db7298-22b6-4c1e-ac0b-b21eeb689f80",
   "metadata": {},
   "outputs": [
    {
     "data": {
      "text/html": [
       "<div>\n",
       "<style scoped>\n",
       "    .dataframe tbody tr th:only-of-type {\n",
       "        vertical-align: middle;\n",
       "    }\n",
       "\n",
       "    .dataframe tbody tr th {\n",
       "        vertical-align: top;\n",
       "    }\n",
       "\n",
       "    .dataframe thead th {\n",
       "        text-align: right;\n",
       "    }\n",
       "</style>\n",
       "<table border=\"1\" class=\"dataframe\">\n",
       "  <thead>\n",
       "    <tr style=\"text-align: right;\">\n",
       "      <th></th>\n",
       "      <th>Abaroa</th>\n",
       "      <th>Llojeta</th>\n",
       "      <th>Cota_Cota</th>\n",
       "      <th>Achachicala</th>\n",
       "      <th>Mallasa</th>\n",
       "      <th>Sopocachi</th>\n",
       "      <th>Periferica</th>\n",
       "      <th>Zona_Cementerio</th>\n",
       "      <th>Los_Pinos</th>\n",
       "    </tr>\n",
       "  </thead>\n",
       "  <tbody>\n",
       "    <tr>\n",
       "      <th>0</th>\n",
       "      <td>51.175266</td>\n",
       "      <td>52.156153</td>\n",
       "      <td>53.324660</td>\n",
       "      <td>51.632900</td>\n",
       "      <td>53.646370</td>\n",
       "      <td>51.220850</td>\n",
       "      <td>51.711028</td>\n",
       "      <td>51.618715</td>\n",
       "      <td>52.612650</td>\n",
       "    </tr>\n",
       "    <tr>\n",
       "      <th>1</th>\n",
       "      <td>50.326275</td>\n",
       "      <td>51.286085</td>\n",
       "      <td>52.431877</td>\n",
       "      <td>50.773252</td>\n",
       "      <td>52.747366</td>\n",
       "      <td>50.370892</td>\n",
       "      <td>50.849696</td>\n",
       "      <td>50.759406</td>\n",
       "      <td>51.734993</td>\n",
       "    </tr>\n",
       "    <tr>\n",
       "      <th>2</th>\n",
       "      <td>50.693014</td>\n",
       "      <td>51.665613</td>\n",
       "      <td>52.830031</td>\n",
       "      <td>51.140168</td>\n",
       "      <td>53.148907</td>\n",
       "      <td>50.736739</td>\n",
       "      <td>51.218532</td>\n",
       "      <td>51.126068</td>\n",
       "      <td>52.124964</td>\n",
       "    </tr>\n",
       "    <tr>\n",
       "      <th>3</th>\n",
       "      <td>51.066530</td>\n",
       "      <td>52.048271</td>\n",
       "      <td>53.222595</td>\n",
       "      <td>51.518950</td>\n",
       "      <td>53.544441</td>\n",
       "      <td>51.110890</td>\n",
       "      <td>51.597914</td>\n",
       "      <td>51.504720</td>\n",
       "      <td>52.510771</td>\n",
       "    </tr>\n",
       "    <tr>\n",
       "      <th>4</th>\n",
       "      <td>50.210184</td>\n",
       "      <td>51.168811</td>\n",
       "      <td>52.315418</td>\n",
       "      <td>50.653396</td>\n",
       "      <td>52.630216</td>\n",
       "      <td>50.253961</td>\n",
       "      <td>50.730222</td>\n",
       "      <td>50.639537</td>\n",
       "      <td>51.619944</td>\n",
       "    </tr>\n",
       "    <tr>\n",
       "      <th>5</th>\n",
       "      <td>52.333786</td>\n",
       "      <td>53.348437</td>\n",
       "      <td>54.562033</td>\n",
       "      <td>52.803600</td>\n",
       "      <td>54.895490</td>\n",
       "      <td>52.380346</td>\n",
       "      <td>52.884780</td>\n",
       "      <td>52.788949</td>\n",
       "      <td>53.825713</td>\n",
       "    </tr>\n",
       "    <tr>\n",
       "      <th>6</th>\n",
       "      <td>50.753359</td>\n",
       "      <td>51.723157</td>\n",
       "      <td>52.879260</td>\n",
       "      <td>51.207091</td>\n",
       "      <td>53.198164</td>\n",
       "      <td>50.798935</td>\n",
       "      <td>51.284029</td>\n",
       "      <td>51.193117</td>\n",
       "      <td>52.174789</td>\n",
       "    </tr>\n",
       "    <tr>\n",
       "      <th>7</th>\n",
       "      <td>51.460988</td>\n",
       "      <td>52.450571</td>\n",
       "      <td>53.631042</td>\n",
       "      <td>51.921190</td>\n",
       "      <td>53.955706</td>\n",
       "      <td>51.506680</td>\n",
       "      <td>52.000192</td>\n",
       "      <td>51.906879</td>\n",
       "      <td>52.912876</td>\n",
       "    </tr>\n",
       "    <tr>\n",
       "      <th>8</th>\n",
       "      <td>51.287420</td>\n",
       "      <td>52.275161</td>\n",
       "      <td>53.457761</td>\n",
       "      <td>51.743920</td>\n",
       "      <td>53.782546</td>\n",
       "      <td>51.332607</td>\n",
       "      <td>51.823031</td>\n",
       "      <td>51.729662</td>\n",
       "      <td>52.741013</td>\n",
       "    </tr>\n",
       "    <tr>\n",
       "      <th>9</th>\n",
       "      <td>51.987833</td>\n",
       "      <td>52.994255</td>\n",
       "      <td>54.199307</td>\n",
       "      <td>52.452592</td>\n",
       "      <td>54.530127</td>\n",
       "      <td>52.033762</td>\n",
       "      <td>52.533267</td>\n",
       "      <td>52.438057</td>\n",
       "      <td>53.469097</td>\n",
       "    </tr>\n",
       "    <tr>\n",
       "      <th>10</th>\n",
       "      <td>51.733297</td>\n",
       "      <td>52.728451</td>\n",
       "      <td>53.915406</td>\n",
       "      <td>52.201696</td>\n",
       "      <td>54.243995</td>\n",
       "      <td>51.781049</td>\n",
       "      <td>52.280051</td>\n",
       "      <td>52.187443</td>\n",
       "      <td>53.191591</td>\n",
       "    </tr>\n",
       "    <tr>\n",
       "      <th>11</th>\n",
       "      <td>54.212077</td>\n",
       "      <td>55.276955</td>\n",
       "      <td>56.552703</td>\n",
       "      <td>54.705814</td>\n",
       "      <td>56.903801</td>\n",
       "      <td>54.261401</td>\n",
       "      <td>54.790736</td>\n",
       "      <td>54.690502</td>\n",
       "      <td>55.779381</td>\n",
       "    </tr>\n",
       "  </tbody>\n",
       "</table>\n",
       "</div>"
      ],
      "text/plain": [
       "       Abaroa    Llojeta  Cota_Cota  Achachicala    Mallasa  Sopocachi  \\\n",
       "0   51.175266  52.156153  53.324660    51.632900  53.646370  51.220850   \n",
       "1   50.326275  51.286085  52.431877    50.773252  52.747366  50.370892   \n",
       "2   50.693014  51.665613  52.830031    51.140168  53.148907  50.736739   \n",
       "3   51.066530  52.048271  53.222595    51.518950  53.544441  51.110890   \n",
       "4   50.210184  51.168811  52.315418    50.653396  52.630216  50.253961   \n",
       "5   52.333786  53.348437  54.562033    52.803600  54.895490  52.380346   \n",
       "6   50.753359  51.723157  52.879260    51.207091  53.198164  50.798935   \n",
       "7   51.460988  52.450571  53.631042    51.921190  53.955706  51.506680   \n",
       "8   51.287420  52.275161  53.457761    51.743920  53.782546  51.332607   \n",
       "9   51.987833  52.994255  54.199307    52.452592  54.530127  52.033762   \n",
       "10  51.733297  52.728451  53.915406    52.201696  54.243995  51.781049   \n",
       "11  54.212077  55.276955  56.552703    54.705814  56.903801  54.261401   \n",
       "\n",
       "    Periferica  Zona_Cementerio  Los_Pinos  \n",
       "0    51.711028        51.618715  52.612650  \n",
       "1    50.849696        50.759406  51.734993  \n",
       "2    51.218532        51.126068  52.124964  \n",
       "3    51.597914        51.504720  52.510771  \n",
       "4    50.730222        50.639537  51.619944  \n",
       "5    52.884780        52.788949  53.825713  \n",
       "6    51.284029        51.193117  52.174789  \n",
       "7    52.000192        51.906879  52.912876  \n",
       "8    51.823031        51.729662  52.741013  \n",
       "9    52.533267        52.438057  53.469097  \n",
       "10   52.280051        52.187443  53.191591  \n",
       "11   54.790736        54.690502  55.779381  "
      ]
     },
     "execution_count": 18,
     "metadata": {},
     "output_type": "execute_result"
    }
   ],
   "source": [
    "pd.DataFrame(n_by_satellite_period_new)"
   ]
  },
  {
   "cell_type": "markdown",
   "id": "4f1c88c5-1179-42ac-b52a-a4bd2d2a0460",
   "metadata": {},
   "source": [
    "## B. Comparison Fleet Size OLD & NEW"
   ]
  },
  {
   "cell_type": "code",
   "execution_count": 19,
   "id": "18e0de75-de40-41eb-9582-4665d8550f3b",
   "metadata": {},
   "outputs": [
    {
     "data": {
      "image/png": "[encoded data removed]",
      "text/plain": [
       "<Figure size 640x480 with 1 Axes>"
      ]
     },
     "metadata": {},
     "output_type": "display_data"
    }
   ],
   "source": [
    "plt.hist(n_by_period_old, alpha=0.5, label=\"old\", bins=10)\n",
    "plt.hist(n_by_period_new, alpha=0.5, label=\"new\", bins=10)\n",
    "plt.title(\"Comparison fleet size new & old CA from DC\")\n",
    "plt.legend()\n",
    "plt.show()"
   ]
  },
  {
   "cell_type": "code",
   "execution_count": 20,
   "id": "857a4678-b8f6-417c-aba9-39a9154f8108",
   "metadata": {},
   "outputs": [
    {
     "data": {
      "image/png": "[encoded data removed]",
      "text/plain": [
       "<Figure size 640x480 with 1 Axes>"
      ]
     },
     "metadata": {},
     "output_type": "display_data"
    },
    {
     "data": {
      "image/png": "[encoded data removed]",
      "text/plain": [
       "<Figure size 640x480 with 1 Axes>"
      ]
     },
     "metadata": {},
     "output_type": "display_data"
    },
    {
     "data": {
      "image/png": "[encoded data removed]",
      "text/plain": [
       "<Figure size 640x480 with 1 Axes>"
      ]
     },
     "metadata": {},
     "output_type": "display_data"
    },
    {
     "data": {
      "image/png": "[encoded data removed]",
      "text/plain": [
       "<Figure size 640x480 with 1 Axes>"
      ]
     },
     "metadata": {},
     "output_type": "display_data"
    },
    {
     "data": {
      "image/png": "[encoded data removed]",
      "text/plain": [
       "<Figure size 640x480 with 1 Axes>"
      ]
     },
     "metadata": {},
     "output_type": "display_data"
    },
    {
     "data": {
      "image/png": "[encoded data removed]",
      "text/plain": [
       "<Figure size 640x480 with 1 Axes>"
      ]
     },
     "metadata": {},
     "output_type": "display_data"
    },
    {
     "data": {
      "image/png": "[encoded data removed]",
      "text/plain": [
       "<Figure size 640x480 with 1 Axes>"
      ]
     },
     "metadata": {},
     "output_type": "display_data"
    },
    {
     "data": {
      "image/png": "[encoded data removed]",
      "text/plain": [
       "<Figure size 640x480 with 1 Axes>"
      ]
     },
     "metadata": {},
     "output_type": "display_data"
    },
    {
     "data": {
      "image/png": "[encoded data removed]",
      "text/plain": [
       "<Figure size 640x480 with 1 Axes>"
      ]
     },
     "metadata": {},
     "output_type": "display_data"
    }
   ],
   "source": [
    "for s in satellites.keys():\n",
    "    values_new = n_by_satellite_period_new[s]\n",
    "    values_old = n_by_satellite_period_old[s]\n",
    "\n",
    "    plt.hist(values_old, alpha=0.5, label=\"old\", bins=10)\n",
    "    plt.hist(values_new, alpha=0.5, label=\"new\", bins=10)\n",
    "    plt.legend()\n",
    "    plt.show()"
   ]
  },
  {
   "cell_type": "markdown",
   "id": "c61afb32-df5e-45de-b03d-cb617e4ac2f1",
   "metadata": {},
   "source": [
    "# 2. Cost of serving each pixel"
   ]
  },
  {
   "cell_type": "code",
   "execution_count": 22,
   "id": "3ff75bd3-2a49-45a8-9d16-d43ee6b19485",
   "metadata": {},
   "outputs": [],
   "source": [
    "cost_old = get_cost_from_continuous_approximation(pixels, satellites, vehicles, fleet_size_old, distances, 12)"
   ]
  },
  {
   "cell_type": "code",
   "execution_count": 28,
   "id": "ccf4d5cc-d96e-42c6-a523-1252324898ca",
   "metadata": {},
   "outputs": [
    {
     "data": {
      "text/plain": [
       "[713784.066,\n",
       " 657065.1410000001,\n",
       " 646141.0860000001,\n",
       " 668365.223,\n",
       " 635352.321,\n",
       " 709317.743,\n",
       " 686283.228,\n",
       " 709600.554,\n",
       " 660402.2990000001,\n",
       " 684729.277,\n",
       " 712344.2809999998,\n",
       " 753462.53]"
      ]
     },
     "execution_count": 28,
     "metadata": {},
     "output_type": "execute_result"
    }
   ],
   "source": [
    "n_by_period_old = []\n",
    "for t in range(12):\n",
    "    total = np.sum([\n",
    "        cost_old[\"dc\"][(k,t)][\"total\"] * pixel.drop_by_period[t] for k, pixel in pixels.items()\n",
    "    ])\n",
    "    n_by_period_old.append(total)\n",
    "n_by_period_old"
   ]
  },
  {
   "cell_type": "code",
   "execution_count": 29,
   "id": "2d59cc38-e073-421a-a69c-53956d089472",
   "metadata": {},
   "outputs": [],
   "source": [
    "cost_new = {\n",
    "    'dc': ca_new.get_cost_serve_pixel(pixels, \"dc\"),\n",
    "    \"satellite\": ca_new.get_cost_serve_pixel(pixels, \"satellite\")\n",
    "}"
   ]
  },
  {
   "cell_type": "code",
   "execution_count": 31,
   "id": "cf0681e4-c37c-495a-a570-9d1d8a73693a",
   "metadata": {},
   "outputs": [
    {
     "data": {
      "text/plain": [
       "[388612.77142106334,\n",
       " 382035.71167977963,\n",
       " 384637.11161666596,\n",
       " 387345.5637086384,\n",
       " 381148.6662749335,\n",
       " 395583.4055466467,\n",
       " 385081.38345424534,\n",
       " 390303.27870494494,\n",
       " 388136.83675764606,\n",
       " 393009.1561394087,\n",
       " 390951.5300887001,\n",
       " 407768.3898069898]"
      ]
     },
     "execution_count": 31,
     "metadata": {},
     "output_type": "execute_result"
    }
   ],
   "source": [
    "n_by_period_new = []\n",
    "for t in range(12):\n",
    "    total = np.sum([\n",
    "        cost_new[\"dc\"][(k,t)][\"total\"] for k, pixel in pixels.items()\n",
    "    ])\n",
    "    n_by_period_new.append(total)\n",
    "n_by_period_new"
   ]
  },
  {
   "cell_type": "code",
   "execution_count": 32,
   "id": "db638d47-122b-4d21-8ad6-625d6a7dbc24",
   "metadata": {},
   "outputs": [
    {
     "data": {
      "image/png": "[encoded data removed]",
      "text/plain": [
       "<Figure size 640x480 with 1 Axes>"
      ]
     },
     "metadata": {},
     "output_type": "display_data"
    }
   ],
   "source": [
    "plt.hist(n_by_period_old, alpha=0.5, label=\"old\", bins=10)\n",
    "plt.hist(n_by_period_new, alpha=0.5, label=\"new\", bins=10)\n",
    "plt.title(\"Comparison COST OF SERVING new & old CA from DC\")\n",
    "plt.legend()\n",
    "plt.show()"
   ]
  },
  {
   "cell_type": "code",
   "execution_count": 39,
   "id": "a6c166df-5514-4068-94ed-52a175a5e61c",
   "metadata": {},
   "outputs": [],
   "source": [
    "n_by_satellite_period_old = {}\n",
    "for s in satellites.keys():\n",
    "    by_period = []\n",
    "    for t in range(12):\n",
    "        total = np.sum([\n",
    "            cost_old[\"satellite\"][(s,k,t)][\"total\"]*pixel.drop_by_period[t] for k, pixel in pixels.items()\n",
    "        ])\n",
    "        by_period.append(total)\n",
    "    n_by_satellite_period_old[s] = by_period"
   ]
  },
  {
   "cell_type": "code",
   "execution_count": 40,
   "id": "cff38d90-62e1-41b6-9361-8f781fe618ab",
   "metadata": {},
   "outputs": [
    {
     "data": {
      "text/html": [
       "<div>\n",
       "<style scoped>\n",
       "    .dataframe tbody tr th:only-of-type {\n",
       "        vertical-align: middle;\n",
       "    }\n",
       "\n",
       "    .dataframe tbody tr th {\n",
       "        vertical-align: top;\n",
       "    }\n",
       "\n",
       "    .dataframe thead th {\n",
       "        text-align: right;\n",
       "    }\n",
       "</style>\n",
       "<table border=\"1\" class=\"dataframe\">\n",
       "  <thead>\n",
       "    <tr style=\"text-align: right;\">\n",
       "      <th></th>\n",
       "      <th>Abaroa</th>\n",
       "      <th>Llojeta</th>\n",
       "      <th>Cota_Cota</th>\n",
       "      <th>Achachicala</th>\n",
       "      <th>Mallasa</th>\n",
       "      <th>Sopocachi</th>\n",
       "      <th>Periferica</th>\n",
       "      <th>Zona_Cementerio</th>\n",
       "      <th>Los_Pinos</th>\n",
       "    </tr>\n",
       "  </thead>\n",
       "  <tbody>\n",
       "    <tr>\n",
       "      <th>0</th>\n",
       "      <td>296624.615</td>\n",
       "      <td>305581.546</td>\n",
       "      <td>310940.556</td>\n",
       "      <td>298813.505</td>\n",
       "      <td>314353.101</td>\n",
       "      <td>295884.063</td>\n",
       "      <td>300319.078</td>\n",
       "      <td>299770.044</td>\n",
       "      <td>308195.488</td>\n",
       "    </tr>\n",
       "    <tr>\n",
       "      <th>1</th>\n",
       "      <td>273214.702</td>\n",
       "      <td>281263.687</td>\n",
       "      <td>286043.743</td>\n",
       "      <td>275170.632</td>\n",
       "      <td>289388.305</td>\n",
       "      <td>272288.802</td>\n",
       "      <td>276481.076</td>\n",
       "      <td>275814.166</td>\n",
       "      <td>283433.047</td>\n",
       "    </tr>\n",
       "    <tr>\n",
       "      <th>2</th>\n",
       "      <td>268739.393</td>\n",
       "      <td>276921.040</td>\n",
       "      <td>281841.673</td>\n",
       "      <td>270247.089</td>\n",
       "      <td>284811.887</td>\n",
       "      <td>267671.504</td>\n",
       "      <td>271730.223</td>\n",
       "      <td>271203.191</td>\n",
       "      <td>279205.933</td>\n",
       "    </tr>\n",
       "    <tr>\n",
       "      <th>3</th>\n",
       "      <td>277872.095</td>\n",
       "      <td>286336.151</td>\n",
       "      <td>291315.749</td>\n",
       "      <td>279741.249</td>\n",
       "      <td>294689.890</td>\n",
       "      <td>276828.025</td>\n",
       "      <td>281032.735</td>\n",
       "      <td>280623.338</td>\n",
       "      <td>288626.467</td>\n",
       "    </tr>\n",
       "    <tr>\n",
       "      <th>4</th>\n",
       "      <td>264291.349</td>\n",
       "      <td>272157.115</td>\n",
       "      <td>276832.221</td>\n",
       "      <td>266048.394</td>\n",
       "      <td>280144.409</td>\n",
       "      <td>263256.543</td>\n",
       "      <td>267170.647</td>\n",
       "      <td>267007.170</td>\n",
       "      <td>274338.076</td>\n",
       "    </tr>\n",
       "    <tr>\n",
       "      <th>5</th>\n",
       "      <td>294743.790</td>\n",
       "      <td>303623.150</td>\n",
       "      <td>308853.027</td>\n",
       "      <td>296795.950</td>\n",
       "      <td>312299.954</td>\n",
       "      <td>293676.540</td>\n",
       "      <td>298347.175</td>\n",
       "      <td>297643.765</td>\n",
       "      <td>306204.206</td>\n",
       "    </tr>\n",
       "    <tr>\n",
       "      <th>6</th>\n",
       "      <td>286086.246</td>\n",
       "      <td>294461.292</td>\n",
       "      <td>299574.709</td>\n",
       "      <td>288222.917</td>\n",
       "      <td>302728.687</td>\n",
       "      <td>285517.113</td>\n",
       "      <td>289553.568</td>\n",
       "      <td>289087.624</td>\n",
       "      <td>296924.642</td>\n",
       "    </tr>\n",
       "    <tr>\n",
       "      <th>7</th>\n",
       "      <td>294939.610</td>\n",
       "      <td>303990.974</td>\n",
       "      <td>309263.290</td>\n",
       "      <td>297119.393</td>\n",
       "      <td>312749.656</td>\n",
       "      <td>294112.104</td>\n",
       "      <td>298633.517</td>\n",
       "      <td>297975.836</td>\n",
       "      <td>306525.963</td>\n",
       "    </tr>\n",
       "    <tr>\n",
       "      <th>8</th>\n",
       "      <td>274847.297</td>\n",
       "      <td>282661.922</td>\n",
       "      <td>287668.972</td>\n",
       "      <td>276778.497</td>\n",
       "      <td>290918.468</td>\n",
       "      <td>273731.351</td>\n",
       "      <td>277750.962</td>\n",
       "      <td>277341.584</td>\n",
       "      <td>285087.343</td>\n",
       "    </tr>\n",
       "    <tr>\n",
       "      <th>9</th>\n",
       "      <td>285910.048</td>\n",
       "      <td>294481.866</td>\n",
       "      <td>299496.208</td>\n",
       "      <td>287868.022</td>\n",
       "      <td>302978.654</td>\n",
       "      <td>284906.144</td>\n",
       "      <td>289355.982</td>\n",
       "      <td>288640.016</td>\n",
       "      <td>296695.433</td>\n",
       "    </tr>\n",
       "    <tr>\n",
       "      <th>10</th>\n",
       "      <td>297138.794</td>\n",
       "      <td>305655.164</td>\n",
       "      <td>310483.306</td>\n",
       "      <td>299640.841</td>\n",
       "      <td>314078.276</td>\n",
       "      <td>296573.325</td>\n",
       "      <td>300912.569</td>\n",
       "      <td>300279.806</td>\n",
       "      <td>307658.023</td>\n",
       "    </tr>\n",
       "    <tr>\n",
       "      <th>11</th>\n",
       "      <td>313346.774</td>\n",
       "      <td>322445.566</td>\n",
       "      <td>327986.526</td>\n",
       "      <td>315505.802</td>\n",
       "      <td>331792.220</td>\n",
       "      <td>312637.521</td>\n",
       "      <td>317216.193</td>\n",
       "      <td>316338.137</td>\n",
       "      <td>325252.664</td>\n",
       "    </tr>\n",
       "  </tbody>\n",
       "</table>\n",
       "</div>"
      ],
      "text/plain": [
       "        Abaroa     Llojeta   Cota_Cota  Achachicala     Mallasa   Sopocachi  \\\n",
       "0   296624.615  305581.546  310940.556   298813.505  314353.101  295884.063   \n",
       "1   273214.702  281263.687  286043.743   275170.632  289388.305  272288.802   \n",
       "2   268739.393  276921.040  281841.673   270247.089  284811.887  267671.504   \n",
       "3   277872.095  286336.151  291315.749   279741.249  294689.890  276828.025   \n",
       "4   264291.349  272157.115  276832.221   266048.394  280144.409  263256.543   \n",
       "5   294743.790  303623.150  308853.027   296795.950  312299.954  293676.540   \n",
       "6   286086.246  294461.292  299574.709   288222.917  302728.687  285517.113   \n",
       "7   294939.610  303990.974  309263.290   297119.393  312749.656  294112.104   \n",
       "8   274847.297  282661.922  287668.972   276778.497  290918.468  273731.351   \n",
       "9   285910.048  294481.866  299496.208   287868.022  302978.654  284906.144   \n",
       "10  297138.794  305655.164  310483.306   299640.841  314078.276  296573.325   \n",
       "11  313346.774  322445.566  327986.526   315505.802  331792.220  312637.521   \n",
       "\n",
       "    Periferica  Zona_Cementerio   Los_Pinos  \n",
       "0   300319.078       299770.044  308195.488  \n",
       "1   276481.076       275814.166  283433.047  \n",
       "2   271730.223       271203.191  279205.933  \n",
       "3   281032.735       280623.338  288626.467  \n",
       "4   267170.647       267007.170  274338.076  \n",
       "5   298347.175       297643.765  306204.206  \n",
       "6   289553.568       289087.624  296924.642  \n",
       "7   298633.517       297975.836  306525.963  \n",
       "8   277750.962       277341.584  285087.343  \n",
       "9   289355.982       288640.016  296695.433  \n",
       "10  300912.569       300279.806  307658.023  \n",
       "11  317216.193       316338.137  325252.664  "
      ]
     },
     "execution_count": 40,
     "metadata": {},
     "output_type": "execute_result"
    }
   ],
   "source": [
    "pd.DataFrame(n_by_satellite_period_old)"
   ]
  },
  {
   "cell_type": "code",
   "execution_count": 41,
   "id": "eb2f73ee-c164-4b55-881c-f77b612531a0",
   "metadata": {},
   "outputs": [],
   "source": [
    "n_by_satellite_period_new = {}\n",
    "for s in satellites.keys():\n",
    "    by_period = []\n",
    "    for t in range(12):\n",
    "        total = np.sum([\n",
    "            cost_new[\"satellite\"][(s,k,t)][\"total\"] for k, pixel in pixels.items()\n",
    "        ])\n",
    "        by_period.append(total)\n",
    "    n_by_satellite_period_new[s] = by_period"
   ]
  },
  {
   "cell_type": "code",
   "execution_count": 42,
   "id": "6b160329-1fa2-4b8a-b6b2-5f54924f1467",
   "metadata": {},
   "outputs": [
    {
     "data": {
      "text/html": [
       "<div>\n",
       "<style scoped>\n",
       "    .dataframe tbody tr th:only-of-type {\n",
       "        vertical-align: middle;\n",
       "    }\n",
       "\n",
       "    .dataframe tbody tr th {\n",
       "        vertical-align: top;\n",
       "    }\n",
       "\n",
       "    .dataframe thead th {\n",
       "        text-align: right;\n",
       "    }\n",
       "</style>\n",
       "<table border=\"1\" class=\"dataframe\">\n",
       "  <thead>\n",
       "    <tr style=\"text-align: right;\">\n",
       "      <th></th>\n",
       "      <th>Abaroa</th>\n",
       "      <th>Llojeta</th>\n",
       "      <th>Cota_Cota</th>\n",
       "      <th>Achachicala</th>\n",
       "      <th>Mallasa</th>\n",
       "      <th>Sopocachi</th>\n",
       "      <th>Periferica</th>\n",
       "      <th>Zona_Cementerio</th>\n",
       "      <th>Los_Pinos</th>\n",
       "    </tr>\n",
       "  </thead>\n",
       "  <tbody>\n",
       "    <tr>\n",
       "      <th>0</th>\n",
       "      <td>42303.503649</td>\n",
       "      <td>44167.855163</td>\n",
       "      <td>46388.814194</td>\n",
       "      <td>43173.318777</td>\n",
       "      <td>47000.281558</td>\n",
       "      <td>42390.145080</td>\n",
       "      <td>43321.815017</td>\n",
       "      <td>43146.357724</td>\n",
       "      <td>45035.511429</td>\n",
       "    </tr>\n",
       "    <tr>\n",
       "      <th>1</th>\n",
       "      <td>41626.142871</td>\n",
       "      <td>43450.434375</td>\n",
       "      <td>45628.218431</td>\n",
       "      <td>42475.701784</td>\n",
       "      <td>46227.861349</td>\n",
       "      <td>41710.944144</td>\n",
       "      <td>42620.997444</td>\n",
       "      <td>42449.385458</td>\n",
       "      <td>44303.664282</td>\n",
       "    </tr>\n",
       "    <tr>\n",
       "      <th>2</th>\n",
       "      <td>41903.208841</td>\n",
       "      <td>43751.808525</td>\n",
       "      <td>45964.993251</td>\n",
       "      <td>42753.104533</td>\n",
       "      <td>46571.075725</td>\n",
       "      <td>41986.315260</td>\n",
       "      <td>42902.049962</td>\n",
       "      <td>42726.304723</td>\n",
       "      <td>44624.886955</td>\n",
       "    </tr>\n",
       "    <tr>\n",
       "      <th>3</th>\n",
       "      <td>42192.277679</td>\n",
       "      <td>44058.252992</td>\n",
       "      <td>46290.265719</td>\n",
       "      <td>43052.182248</td>\n",
       "      <td>46901.992305</td>\n",
       "      <td>42276.591494</td>\n",
       "      <td>43202.268348</td>\n",
       "      <td>43025.136411</td>\n",
       "      <td>44937.316011</td>\n",
       "    </tr>\n",
       "    <tr>\n",
       "      <th>4</th>\n",
       "      <td>41532.375807</td>\n",
       "      <td>43354.418333</td>\n",
       "      <td>45533.751802</td>\n",
       "      <td>42374.780063</td>\n",
       "      <td>46132.082585</td>\n",
       "      <td>41615.581739</td>\n",
       "      <td>42520.801654</td>\n",
       "      <td>42348.438212</td>\n",
       "      <td>44211.878129</td>\n",
       "    </tr>\n",
       "    <tr>\n",
       "      <th>5</th>\n",
       "      <td>43124.297211</td>\n",
       "      <td>45052.824441</td>\n",
       "      <td>47359.481781</td>\n",
       "      <td>44017.264181</td>\n",
       "      <td>47993.277047</td>\n",
       "      <td>43212.793414</td>\n",
       "      <td>44171.560936</td>\n",
       "      <td>43989.415894</td>\n",
       "      <td>45959.973935</td>\n",
       "    </tr>\n",
       "    <tr>\n",
       "      <th>6</th>\n",
       "      <td>41954.636178</td>\n",
       "      <td>43797.912444</td>\n",
       "      <td>45995.293226</td>\n",
       "      <td>42817.035380</td>\n",
       "      <td>46601.427433</td>\n",
       "      <td>42041.261854</td>\n",
       "      <td>42963.270978</td>\n",
       "      <td>42790.476329</td>\n",
       "      <td>44656.319809</td>\n",
       "    </tr>\n",
       "    <tr>\n",
       "      <th>7</th>\n",
       "      <td>42504.192698</td>\n",
       "      <td>44385.073151</td>\n",
       "      <td>46628.770670</td>\n",
       "      <td>43378.889559</td>\n",
       "      <td>47245.852151</td>\n",
       "      <td>42591.038196</td>\n",
       "      <td>43529.045812</td>\n",
       "      <td>43351.687797</td>\n",
       "      <td>45263.767315</td>\n",
       "    </tr>\n",
       "    <tr>\n",
       "      <th>8</th>\n",
       "      <td>42322.807602</td>\n",
       "      <td>44200.186745</td>\n",
       "      <td>46447.929971</td>\n",
       "      <td>43190.466677</td>\n",
       "      <td>47065.243041</td>\n",
       "      <td>42408.692667</td>\n",
       "      <td>43340.832584</td>\n",
       "      <td>43163.367902</td>\n",
       "      <td>45085.621751</td>\n",
       "    </tr>\n",
       "    <tr>\n",
       "      <th>9</th>\n",
       "      <td>42853.094944</td>\n",
       "      <td>44765.982442</td>\n",
       "      <td>47056.400414</td>\n",
       "      <td>43736.453357</td>\n",
       "      <td>47685.182424</td>\n",
       "      <td>42940.392066</td>\n",
       "      <td>43889.791858</td>\n",
       "      <td>43708.827596</td>\n",
       "      <td>45668.505210</td>\n",
       "    </tr>\n",
       "    <tr>\n",
       "      <th>10</th>\n",
       "      <td>42650.828663</td>\n",
       "      <td>44542.297779</td>\n",
       "      <td>46798.318858</td>\n",
       "      <td>43541.104132</td>\n",
       "      <td>47422.861923</td>\n",
       "      <td>42741.589625</td>\n",
       "      <td>43690.032205</td>\n",
       "      <td>43514.014505</td>\n",
       "      <td>45422.578738</td>\n",
       "    </tr>\n",
       "    <tr>\n",
       "      <th>11</th>\n",
       "      <td>44502.472596</td>\n",
       "      <td>46526.464590</td>\n",
       "      <td>48951.254244</td>\n",
       "      <td>45440.908811</td>\n",
       "      <td>49618.579779</td>\n",
       "      <td>44596.221702</td>\n",
       "      <td>45602.318540</td>\n",
       "      <td>45411.805948</td>\n",
       "      <td>47481.416428</td>\n",
       "    </tr>\n",
       "  </tbody>\n",
       "</table>\n",
       "</div>"
      ],
      "text/plain": [
       "          Abaroa       Llojeta     Cota_Cota   Achachicala       Mallasa  \\\n",
       "0   42303.503649  44167.855163  46388.814194  43173.318777  47000.281558   \n",
       "1   41626.142871  43450.434375  45628.218431  42475.701784  46227.861349   \n",
       "2   41903.208841  43751.808525  45964.993251  42753.104533  46571.075725   \n",
       "3   42192.277679  44058.252992  46290.265719  43052.182248  46901.992305   \n",
       "4   41532.375807  43354.418333  45533.751802  42374.780063  46132.082585   \n",
       "5   43124.297211  45052.824441  47359.481781  44017.264181  47993.277047   \n",
       "6   41954.636178  43797.912444  45995.293226  42817.035380  46601.427433   \n",
       "7   42504.192698  44385.073151  46628.770670  43378.889559  47245.852151   \n",
       "8   42322.807602  44200.186745  46447.929971  43190.466677  47065.243041   \n",
       "9   42853.094944  44765.982442  47056.400414  43736.453357  47685.182424   \n",
       "10  42650.828663  44542.297779  46798.318858  43541.104132  47422.861923   \n",
       "11  44502.472596  46526.464590  48951.254244  45440.908811  49618.579779   \n",
       "\n",
       "       Sopocachi    Periferica  Zona_Cementerio     Los_Pinos  \n",
       "0   42390.145080  43321.815017     43146.357724  45035.511429  \n",
       "1   41710.944144  42620.997444     42449.385458  44303.664282  \n",
       "2   41986.315260  42902.049962     42726.304723  44624.886955  \n",
       "3   42276.591494  43202.268348     43025.136411  44937.316011  \n",
       "4   41615.581739  42520.801654     42348.438212  44211.878129  \n",
       "5   43212.793414  44171.560936     43989.415894  45959.973935  \n",
       "6   42041.261854  42963.270978     42790.476329  44656.319809  \n",
       "7   42591.038196  43529.045812     43351.687797  45263.767315  \n",
       "8   42408.692667  43340.832584     43163.367902  45085.621751  \n",
       "9   42940.392066  43889.791858     43708.827596  45668.505210  \n",
       "10  42741.589625  43690.032205     43514.014505  45422.578738  \n",
       "11  44596.221702  45602.318540     45411.805948  47481.416428  "
      ]
     },
     "execution_count": 42,
     "metadata": {},
     "output_type": "execute_result"
    }
   ],
   "source": [
    "pd.DataFrame(n_by_satellite_period_new)"
   ]
  },
  {
   "cell_type": "code",
   "execution_count": 43,
   "id": "4194fbd3-dc45-4015-a732-e3348f458277",
   "metadata": {},
   "outputs": [
    {
     "data": {
      "image/png": "[encoded data removed]",
      "text/plain": [
       "<Figure size 640x480 with 1 Axes>"
      ]
     },
     "metadata": {},
     "output_type": "display_data"
    },
    {
     "data": {
      "image/png": "[encoded data removed]",
      "text/plain": [
       "<Figure size 640x480 with 1 Axes>"
      ]
     },
     "metadata": {},
     "output_type": "display_data"
    },
    {
     "data": {
      "image/png": "[encoded data removed]",
      "text/plain": [
       "<Figure size 640x480 with 1 Axes>"
      ]
     },
     "metadata": {},
     "output_type": "display_data"
    },
    {
     "data": {
      "image/png": "[encoded data removed]",
      "text/plain": [
       "<Figure size 640x480 with 1 Axes>"
      ]
     },
     "metadata": {},
     "output_type": "display_data"
    },
    {
     "data": {
      "image/png": "[encoded data removed]",
      "text/plain": [
       "<Figure size 640x480 with 1 Axes>"
      ]
     },
     "metadata": {},
     "output_type": "display_data"
    },
    {
     "data": {
      "image/png": "[encoded data removed]",
      "text/plain": [
       "<Figure size 640x480 with 1 Axes>"
      ]
     },
     "metadata": {},
     "output_type": "display_data"
    },
    {
     "data": {
      "image/png": "[encoded data removed]",
      "text/plain": [
       "<Figure size 640x480 with 1 Axes>"
      ]
     },
     "metadata": {},
     "output_type": "display_data"
    },
    {
     "data": {
      "image/png": "[encoded data removed]",
      "text/plain": [
       "<Figure size 640x480 with 1 Axes>"
      ]
     },
     "metadata": {},
     "output_type": "display_data"
    },
    {
     "data": {
      "image/png": "[encoded data removed]",
      "text/plain": [
       "<Figure size 640x480 with 1 Axes>"
      ]
     },
     "metadata": {},
     "output_type": "display_data"
    }
   ],
   "source": [
    "for s in satellites.keys():\n",
    "    values_new = n_by_satellite_period_new[s]\n",
    "    values_old = n_by_satellite_period_old[s]\n",
    "\n",
    "    plt.hist(values_old, alpha=0.5, label=\"old\", bins=10)\n",
    "    plt.hist(values_new, alpha=0.5, label=\"new\", bins=10)\n",
    "    plt.legend()\n",
    "    plt.show()"
   ]
  },
  {
   "cell_type": "code",
   "execution_count": null,
   "id": "310109fe-9e10-43d6-aeb6-54e1a62df070",
   "metadata": {},
   "outputs": [],
   "source": []
  },
  {
   "cell_type": "code",
   "execution_count": null,
   "id": "7647a6ec-a288-4e4a-ba9e-3bf89839d767",
   "metadata": {},
   "outputs": [],
   "source": []
  }
 ],
 "metadata": {
  "kernelspec": {
   "display_name": "Python 3 (ipykernel)",
   "language": "python",
   "name": "python3"
  },
  "language_info": {
   "codemirror_mode": {
    "name": "ipython",
    "version": 3
   },
   "file_extension": ".py",
   "mimetype": "text/x-python",
   "name": "python",
   "nbconvert_exporter": "python",
   "pygments_lexer": "ipython3",
   "version": "3.10.10"
  }
 },
 "nbformat": 4,
 "nbformat_minor": 5
}
