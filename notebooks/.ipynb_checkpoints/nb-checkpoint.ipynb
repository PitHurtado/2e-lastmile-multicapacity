{
 "cells": [
  {
   "cell_type": "code",
   "execution_count": 1,
   "id": "cae646d5-80fb-4b0d-b413-61b89fbe8ab6",
   "metadata": {},
   "outputs": [],
   "source": [
    "import os, sys\n",
    "project_home = \"/Users/pitehrhurtado/Documents/Operation-Researchs/multiperiod-2e\"\n",
    "if project_home not in sys.path:\n",
    "    sys.path = [project_home] + sys.path"
   ]
  },
  {
   "cell_type": "code",
   "execution_count": 2,
   "id": "47b64abf-8d61-4b49-a39c-0ac1e00b53a0",
   "metadata": {},
   "outputs": [],
   "source": [
    "import json\n",
    "import numpy as np\n",
    "import pandas as pd\n",
    "from matplotlib import pyplot as plt\n",
    "from src.app.get_data import Data\n",
    "from src.app.models import ModelMultiperiod\n",
    "from src.app.utils import (\n",
    "    CADeterministic,\n",
    ")"
   ]
  },
  {
   "cell_type": "code",
   "execution_count": 3,
   "id": "06886b36-c8d2-4ae2-9da7-f8faa096b05f",
   "metadata": {},
   "outputs": [
    {
     "name": "stderr",
     "output_type": "stream",
     "text": [
      "ERROR:root:[ERROR] File ../../data/base_satellites.csv not found\n"
     ]
    },
    {
     "ename": "SystemExit",
     "evalue": "1",
     "output_type": "error",
     "traceback": [
      "An exception has occurred, use %tb to see the full traceback.\n",
      "\u001b[0;31mSystemExit\u001b[0m\u001b[0;31m:\u001b[0m 1\n"
     ]
    },
    {
     "name": "stderr",
     "output_type": "stream",
     "text": [
      "/Users/pitehrhurtado/Library/Caches/pypoetry/virtualenvs/model-multiperiod-op1UBMWN-py3.9/lib/python3.9/site-packages/IPython/core/interactiveshell.py:3534: UserWarning: To exit: use 'exit', 'quit', or Ctrl-D.\n",
      "  warn(\"To exit: use 'exit', 'quit', or Ctrl-D.\", stacklevel=1)\n"
     ]
    }
   ],
   "source": [
    "satellites, df_satellites = Data.load_satellites()"
   ]
  },
  {
   "cell_type": "code",
   "execution_count": null,
   "id": "cb83f93d-67fa-4413-a9c1-4f125503f6f5",
   "metadata": {},
   "outputs": [],
   "source": []
  }
 ],
 "metadata": {
  "kernelspec": {
   "display_name": "Python 3 (ipykernel)",
   "language": "python",
   "name": "python3"
  },
  "language_info": {
   "codemirror_mode": {
    "name": "ipython",
    "version": 3
   },
   "file_extension": ".py",
   "mimetype": "text/x-python",
   "name": "python",
   "nbconvert_exporter": "python",
   "pygments_lexer": "ipython3",
   "version": "3.9.16"
  }
 },
 "nbformat": 4,
 "nbformat_minor": 5
}
