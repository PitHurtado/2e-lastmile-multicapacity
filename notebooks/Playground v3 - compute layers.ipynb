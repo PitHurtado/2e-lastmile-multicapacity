{
 "cells": [
  {
   "cell_type": "code",
   "execution_count": 2,
   "id": "c5581b96",
   "metadata": {},
   "outputs": [],
   "source": [
    "import pandas as pd\n",
    "import geopandas as gpd\n",
    "from matplotlib import pyplot as plt\n",
    "\n",
    "import numpy as np\n",
    "import matplotlib.pyplot as plt\n",
    "#from sklearn.cluster import KMeans\n",
    "#from sklearn import metrics\n"
   ]
  },
  {
   "cell_type": "code",
   "execution_count": 3,
   "id": "a4aa2ba1",
   "metadata": {},
   "outputs": [],
   "source": [
    "import logging\n",
    "logger = logging.getLogger(__name__)\n",
    "logging.basicConfig(level=logging.INFO)"
   ]
  },
  {
   "cell_type": "markdown",
   "id": "45631ae6",
   "metadata": {},
   "source": [
    "#### Configs"
   ]
  },
  {
   "cell_type": "code",
   "execution_count": null,
   "id": "0199dc13",
   "metadata": {},
   "outputs": [],
   "source": [
    "# pd.set_option(\"display.max_columns\", None)\n",
    "# pd.set_option(\"display.max_rows\", None)"
   ]
  },
  {
   "cell_type": "markdown",
   "id": "b469c373",
   "metadata": {},
   "source": [
    "### A. Load data"
   ]
  },
  {
   "cell_type": "code",
   "execution_count": 5,
   "id": "66d6e998",
   "metadata": {},
   "outputs": [],
   "source": [
    "raw = pd.read_csv(\"../data/base_customers_all_years_z7.csv\")\n",
    "raw['date'] = pd.to_datetime(raw['date'])\n",
    "raw['year'] = raw['date'].dt.year\n",
    "raw['month'] = raw['date'].dt.month"
   ]
  },
  {
   "cell_type": "markdown",
   "id": "82e213cc",
   "metadata": {},
   "source": [
    "### B. Clean up"
   ]
  },
  {
   "cell_type": "code",
   "execution_count": 6,
   "id": "78e10d23",
   "metadata": {},
   "outputs": [
    {
     "name": "stderr",
     "output_type": "stream",
     "text": [
      "INFO:__main__:Quantity of rows with negative demand: 66430\n",
      "INFO:__main__:Quantity of rows removed: 4484 of total 2702405\n"
     ]
    }
   ],
   "source": [
    "# remove negative demand\n",
    "n_negative = len(raw[raw.demand <=0].index)\n",
    "raw = raw[raw.demand > 0].reset_index(drop=True)\n",
    "logger.info(f\"Quantity of rows with negative demand: {n_negative}\")\n",
    "\n",
    "# compute percentiles\n",
    "percentil_1 = raw['demand'].quantile(0.01)\n",
    "percentil_99_9 = raw['demand'].quantile(0.999)\n",
    "\n",
    "# Filter records\n",
    "n_rows = len(raw.index)\n",
    "n_removed = len(raw[(raw['demand'] < percentil_1) | (raw['demand'] > percentil_99_9)])\n",
    "raw = raw[(raw['demand'] >= percentil_1) & (raw['demand'] < percentil_99_9)].reset_index(drop=True)\n",
    "\n",
    "logger.info(f\"Quantity of rows removed: {n_removed} of total {n_rows}\")"
   ]
  },
  {
   "cell_type": "code",
   "execution_count": 7,
   "id": "9079c511",
   "metadata": {},
   "outputs": [],
   "source": [
    "raw_grouped = raw.groupby([\"year\",\"month\",\"cod_customer\",\"lat\",\"lon\"]).agg(demand = (\"demand\",\"sum\"),\n",
    "                                                                            n_dates = (\"date\",\"nunique\")).reset_index()\n",
    "raw_grouped[\"demand\"] = raw_grouped.apply(lambda x: x['demand']/25, axis=1)"
   ]
  },
  {
   "cell_type": "markdown",
   "id": "6eaedbd8",
   "metadata": {},
   "source": [
    "### C. Transform"
   ]
  },
  {
   "cell_type": "code",
   "execution_count": 8,
   "id": "ebf8b707",
   "metadata": {
    "scrolled": true
   },
   "outputs": [
    {
     "data": {
      "text/html": [
       "<div>\n",
       "<style scoped>\n",
       "    .dataframe tbody tr th:only-of-type {\n",
       "        vertical-align: middle;\n",
       "    }\n",
       "\n",
       "    .dataframe tbody tr th {\n",
       "        vertical-align: top;\n",
       "    }\n",
       "\n",
       "    .dataframe thead th {\n",
       "        text-align: right;\n",
       "    }\n",
       "</style>\n",
       "<table border=\"1\" class=\"dataframe\">\n",
       "  <thead>\n",
       "    <tr style=\"text-align: right;\">\n",
       "      <th></th>\n",
       "      <th>n_customers</th>\n",
       "    </tr>\n",
       "    <tr>\n",
       "      <th>year</th>\n",
       "      <th></th>\n",
       "    </tr>\n",
       "  </thead>\n",
       "  <tbody>\n",
       "    <tr>\n",
       "      <th>2020</th>\n",
       "      <td>8472</td>\n",
       "    </tr>\n",
       "    <tr>\n",
       "      <th>2021</th>\n",
       "      <td>11061</td>\n",
       "    </tr>\n",
       "    <tr>\n",
       "      <th>2022</th>\n",
       "      <td>10098</td>\n",
       "    </tr>\n",
       "  </tbody>\n",
       "</table>\n",
       "</div>"
      ],
      "text/plain": [
       "      n_customers\n",
       "year             \n",
       "2020         8472\n",
       "2021        11061\n",
       "2022        10098"
      ]
     },
     "execution_count": 8,
     "metadata": {},
     "output_type": "execute_result"
    }
   ],
   "source": [
    "# Quantity of customers unique by year\n",
    "raw_grouped.groupby(['year']).agg(n_customers = (\"cod_customer\",\"nunique\"))"
   ]
  },
  {
   "cell_type": "code",
   "execution_count": 9,
   "id": "3d6d13bb",
   "metadata": {},
   "outputs": [],
   "source": [
    "raw_grouped_by_customer = raw_grouped.groupby(['year','cod_customer']).agg(demand = (\"demand\",\"sum\"),\n",
    "                                                                            n_dates = (\"n_dates\",\"sum\")).reset_index()"
   ]
  },
  {
   "cell_type": "code",
   "execution_count": 10,
   "id": "001b5942",
   "metadata": {},
   "outputs": [
    {
     "name": "stderr",
     "output_type": "stream",
     "text": [
      "INFO:__main__:Quantity of customer from 2022 who have demand-frequency greater than 12 times 7254\n",
      "INFO:__main__:Quantity of customer from 2022 present in 2021: 6723 - 92.7%\n",
      "INFO:__main__:Quantity of customer from 2022 present in 2020: 4534 - 62.5%\n"
     ]
    }
   ],
   "source": [
    "_y1 = set(raw_grouped_by_customer[raw_grouped_by_customer.year==2020]['cod_customer'].unique())\n",
    "_y2 = set(raw_grouped_by_customer[raw_grouped_by_customer.year==2021]['cod_customer'].unique())\n",
    "_y3 = set(raw_grouped_by_customer[(raw_grouped_by_customer.year==2022) & (raw_grouped_by_customer.n_dates >= 12)]['cod_customer'].unique())\n",
    "\n",
    "intersection_y3_y2 = _y3.intersection(_y2)\n",
    "intersection_y3_y1 = _y3.intersection(_y1)\n",
    "\n",
    "logger.info(f\"Quantity of customer from 2022 who have demand-frequency greater than 12 times {len(_y3)}\")\n",
    "logger.info(f\"Quantity of customer from 2022 present in 2021: {len(intersection_y3_y2)} - {(len(intersection_y3_y2) *100/ len(_y3)):.1f}%\")\n",
    "logger.info(f\"Quantity of customer from 2022 present in 2020: {len(intersection_y3_y1)} - {(len(intersection_y3_y1) *100/ len(_y3)):.1f}%\")"
   ]
  },
  {
   "cell_type": "code",
   "execution_count": 11,
   "id": "056be550",
   "metadata": {},
   "outputs": [
    {
     "data": {
      "text/html": [
       "<div>\n",
       "<style scoped>\n",
       "    .dataframe tbody tr th:only-of-type {\n",
       "        vertical-align: middle;\n",
       "    }\n",
       "\n",
       "    .dataframe tbody tr th {\n",
       "        vertical-align: top;\n",
       "    }\n",
       "\n",
       "    .dataframe thead th {\n",
       "        text-align: right;\n",
       "    }\n",
       "</style>\n",
       "<table border=\"1\" class=\"dataframe\">\n",
       "  <thead>\n",
       "    <tr style=\"text-align: right;\">\n",
       "      <th></th>\n",
       "      <th>n_customers</th>\n",
       "    </tr>\n",
       "    <tr>\n",
       "      <th>year</th>\n",
       "      <th></th>\n",
       "    </tr>\n",
       "  </thead>\n",
       "  <tbody>\n",
       "    <tr>\n",
       "      <th>2020</th>\n",
       "      <td>4534</td>\n",
       "    </tr>\n",
       "    <tr>\n",
       "      <th>2021</th>\n",
       "      <td>6723</td>\n",
       "    </tr>\n",
       "    <tr>\n",
       "      <th>2022</th>\n",
       "      <td>7254</td>\n",
       "    </tr>\n",
       "  </tbody>\n",
       "</table>\n",
       "</div>"
      ],
      "text/plain": [
       "      n_customers\n",
       "year             \n",
       "2020         4534\n",
       "2021         6723\n",
       "2022         7254"
      ]
     },
     "execution_count": 11,
     "metadata": {},
     "output_type": "execute_result"
    }
   ],
   "source": [
    "# we only consider all demands from customers who ever sued in 2023\n",
    "raw_filtered = raw_grouped[raw_grouped.cod_customer.isin(_y3)].reset_index(drop=True)\n",
    "raw_filtered.groupby(['year']).agg(n_customers = (\"cod_customer\",\"nunique\"))"
   ]
  },
  {
   "cell_type": "code",
   "execution_count": 20,
   "id": "ab6edcb7-dbed-4e5d-a348-9e828ab8e228",
   "metadata": {},
   "outputs": [
    {
     "data": {
      "text/html": [
       "<div>\n",
       "<style scoped>\n",
       "    .dataframe tbody tr th:only-of-type {\n",
       "        vertical-align: middle;\n",
       "    }\n",
       "\n",
       "    .dataframe tbody tr th {\n",
       "        vertical-align: top;\n",
       "    }\n",
       "\n",
       "    .dataframe thead th {\n",
       "        text-align: right;\n",
       "    }\n",
       "</style>\n",
       "<table border=\"1\" class=\"dataframe\">\n",
       "  <thead>\n",
       "    <tr style=\"text-align: right;\">\n",
       "      <th></th>\n",
       "      <th></th>\n",
       "      <th>n_customers</th>\n",
       "      <th>sum_demand</th>\n",
       "    </tr>\n",
       "    <tr>\n",
       "      <th>year</th>\n",
       "      <th>month</th>\n",
       "      <th></th>\n",
       "      <th></th>\n",
       "    </tr>\n",
       "  </thead>\n",
       "  <tbody>\n",
       "    <tr>\n",
       "      <th rowspan=\"12\" valign=\"top\">2020</th>\n",
       "      <th>1</th>\n",
       "      <td>2755</td>\n",
       "      <td>6808.940000</td>\n",
       "    </tr>\n",
       "    <tr>\n",
       "      <th>2</th>\n",
       "      <td>2797</td>\n",
       "      <td>6808.040000</td>\n",
       "    </tr>\n",
       "    <tr>\n",
       "      <th>3</th>\n",
       "      <td>2797</td>\n",
       "      <td>4924.720000</td>\n",
       "    </tr>\n",
       "    <tr>\n",
       "      <th>4</th>\n",
       "      <td>1987</td>\n",
       "      <td>4045.780000</td>\n",
       "    </tr>\n",
       "    <tr>\n",
       "      <th>5</th>\n",
       "      <td>2223</td>\n",
       "      <td>5367.335000</td>\n",
       "    </tr>\n",
       "    <tr>\n",
       "      <th>6</th>\n",
       "      <td>2691</td>\n",
       "      <td>6442.880000</td>\n",
       "    </tr>\n",
       "    <tr>\n",
       "      <th>7</th>\n",
       "      <td>3177</td>\n",
       "      <td>7165.460000</td>\n",
       "    </tr>\n",
       "    <tr>\n",
       "      <th>8</th>\n",
       "      <td>3306</td>\n",
       "      <td>5684.820000</td>\n",
       "    </tr>\n",
       "    <tr>\n",
       "      <th>9</th>\n",
       "      <td>3746</td>\n",
       "      <td>7373.140000</td>\n",
       "    </tr>\n",
       "    <tr>\n",
       "      <th>10</th>\n",
       "      <td>3993</td>\n",
       "      <td>9177.720000</td>\n",
       "    </tr>\n",
       "    <tr>\n",
       "      <th>11</th>\n",
       "      <td>4047</td>\n",
       "      <td>9501.180000</td>\n",
       "    </tr>\n",
       "    <tr>\n",
       "      <th>12</th>\n",
       "      <td>4177</td>\n",
       "      <td>11841.580000</td>\n",
       "    </tr>\n",
       "    <tr>\n",
       "      <th rowspan=\"12\" valign=\"top\">2021</th>\n",
       "      <th>1</th>\n",
       "      <td>4064</td>\n",
       "      <td>8400.180000</td>\n",
       "    </tr>\n",
       "    <tr>\n",
       "      <th>2</th>\n",
       "      <td>2646</td>\n",
       "      <td>1946.540000</td>\n",
       "    </tr>\n",
       "    <tr>\n",
       "      <th>3</th>\n",
       "      <td>4350</td>\n",
       "      <td>8504.290000</td>\n",
       "    </tr>\n",
       "    <tr>\n",
       "      <th>4</th>\n",
       "      <td>4387</td>\n",
       "      <td>8805.921667</td>\n",
       "    </tr>\n",
       "    <tr>\n",
       "      <th>5</th>\n",
       "      <td>4461</td>\n",
       "      <td>8312.888333</td>\n",
       "    </tr>\n",
       "    <tr>\n",
       "      <th>6</th>\n",
       "      <td>4557</td>\n",
       "      <td>7777.375000</td>\n",
       "    </tr>\n",
       "    <tr>\n",
       "      <th>7</th>\n",
       "      <td>4713</td>\n",
       "      <td>9422.103333</td>\n",
       "    </tr>\n",
       "    <tr>\n",
       "      <th>8</th>\n",
       "      <td>5537</td>\n",
       "      <td>9637.178333</td>\n",
       "    </tr>\n",
       "    <tr>\n",
       "      <th>9</th>\n",
       "      <td>5858</td>\n",
       "      <td>10916.750000</td>\n",
       "    </tr>\n",
       "    <tr>\n",
       "      <th>10</th>\n",
       "      <td>6049</td>\n",
       "      <td>12271.486667</td>\n",
       "    </tr>\n",
       "    <tr>\n",
       "      <th>11</th>\n",
       "      <td>5969</td>\n",
       "      <td>11163.341667</td>\n",
       "    </tr>\n",
       "    <tr>\n",
       "      <th>12</th>\n",
       "      <td>6170</td>\n",
       "      <td>14585.410333</td>\n",
       "    </tr>\n",
       "    <tr>\n",
       "      <th rowspan=\"12\" valign=\"top\">2022</th>\n",
       "      <th>1</th>\n",
       "      <td>6117</td>\n",
       "      <td>10296.837000</td>\n",
       "    </tr>\n",
       "    <tr>\n",
       "      <th>2</th>\n",
       "      <td>6469</td>\n",
       "      <td>13088.033333</td>\n",
       "    </tr>\n",
       "    <tr>\n",
       "      <th>3</th>\n",
       "      <td>6630</td>\n",
       "      <td>13185.967000</td>\n",
       "    </tr>\n",
       "    <tr>\n",
       "      <th>4</th>\n",
       "      <td>6630</td>\n",
       "      <td>12156.751667</td>\n",
       "    </tr>\n",
       "    <tr>\n",
       "      <th>5</th>\n",
       "      <td>6655</td>\n",
       "      <td>12216.446667</td>\n",
       "    </tr>\n",
       "    <tr>\n",
       "      <th>6</th>\n",
       "      <td>6620</td>\n",
       "      <td>15540.269667</td>\n",
       "    </tr>\n",
       "    <tr>\n",
       "      <th>7</th>\n",
       "      <td>6617</td>\n",
       "      <td>13837.166667</td>\n",
       "    </tr>\n",
       "    <tr>\n",
       "      <th>8</th>\n",
       "      <td>6679</td>\n",
       "      <td>13926.008333</td>\n",
       "    </tr>\n",
       "    <tr>\n",
       "      <th>9</th>\n",
       "      <td>6725</td>\n",
       "      <td>15798.900000</td>\n",
       "    </tr>\n",
       "    <tr>\n",
       "      <th>10</th>\n",
       "      <td>6676</td>\n",
       "      <td>17282.016667</td>\n",
       "    </tr>\n",
       "    <tr>\n",
       "      <th>11</th>\n",
       "      <td>6550</td>\n",
       "      <td>16803.966667</td>\n",
       "    </tr>\n",
       "    <tr>\n",
       "      <th>12</th>\n",
       "      <td>6554</td>\n",
       "      <td>20454.501667</td>\n",
       "    </tr>\n",
       "  </tbody>\n",
       "</table>\n",
       "</div>"
      ],
      "text/plain": [
       "            n_customers    sum_demand\n",
       "year month                           \n",
       "2020 1             2755   6808.940000\n",
       "     2             2797   6808.040000\n",
       "     3             2797   4924.720000\n",
       "     4             1987   4045.780000\n",
       "     5             2223   5367.335000\n",
       "     6             2691   6442.880000\n",
       "     7             3177   7165.460000\n",
       "     8             3306   5684.820000\n",
       "     9             3746   7373.140000\n",
       "     10            3993   9177.720000\n",
       "     11            4047   9501.180000\n",
       "     12            4177  11841.580000\n",
       "2021 1             4064   8400.180000\n",
       "     2             2646   1946.540000\n",
       "     3             4350   8504.290000\n",
       "     4             4387   8805.921667\n",
       "     5             4461   8312.888333\n",
       "     6             4557   7777.375000\n",
       "     7             4713   9422.103333\n",
       "     8             5537   9637.178333\n",
       "     9             5858  10916.750000\n",
       "     10            6049  12271.486667\n",
       "     11            5969  11163.341667\n",
       "     12            6170  14585.410333\n",
       "2022 1             6117  10296.837000\n",
       "     2             6469  13088.033333\n",
       "     3             6630  13185.967000\n",
       "     4             6630  12156.751667\n",
       "     5             6655  12216.446667\n",
       "     6             6620  15540.269667\n",
       "     7             6617  13837.166667\n",
       "     8             6679  13926.008333\n",
       "     9             6725  15798.900000\n",
       "     10            6676  17282.016667\n",
       "     11            6550  16803.966667\n",
       "     12            6554  20454.501667"
      ]
     },
     "execution_count": 20,
     "metadata": {},
     "output_type": "execute_result"
    }
   ],
   "source": [
    "raw_filtered.groupby(['year','month']).agg(n_customers = (\"cod_customer\",\"nunique\"), sum_demand=('demand','sum'))"
   ]
  },
  {
   "cell_type": "markdown",
   "id": "386219f6",
   "metadata": {},
   "source": [
    "### D. Exploratory"
   ]
  },
  {
   "cell_type": "markdown",
   "id": "aadec7f6",
   "metadata": {},
   "source": [
    "####  Histogram with daily demand historic (3 years data)"
   ]
  },
  {
   "cell_type": "code",
   "execution_count": 12,
   "id": "ba20a704",
   "metadata": {},
   "outputs": [
    {
     "data": {
      "image/png": "[encoded data removed]",
      "text/plain": [
       "<Figure size 640x480 with 1 Axes>"
      ]
     },
     "metadata": {},
     "output_type": "display_data"
    }
   ],
   "source": [
    "plt.hist(raw_filtered[\"demand\"], bins=20)\n",
    "plt.xlabel(\"quantity of demand\")\n",
    "plt.ylabel(\"Number of records\")\n",
    "plt.show()"
   ]
  },
  {
   "cell_type": "code",
   "execution_count": 13,
   "id": "9d4a9fb6",
   "metadata": {},
   "outputs": [
    {
     "data": {
      "image/png": "[encoded data removed]",
      "text/plain": [
       "<Figure size 640x480 with 1 Axes>"
      ]
     },
     "metadata": {},
     "output_type": "display_data"
    }
   ],
   "source": [
    "plt.hist(raw_filtered[\"demand\"], bins=100)\n",
    "plt.xlabel(\"quantity of demand\")\n",
    "plt.yscale(\"log\")\n",
    "plt.ylabel(\"Number of records\")\n",
    "plt.show()"
   ]
  },
  {
   "cell_type": "markdown",
   "id": "c41a939f",
   "metadata": {},
   "source": [
    "# Playground v3\n"
   ]
  },
  {
   "cell_type": "code",
   "execution_count": 14,
   "id": "62a632ef",
   "metadata": {},
   "outputs": [
    {
     "name": "stderr",
     "output_type": "stream",
     "text": [
      "INFO:__main__:N rows: 71774\n"
     ]
    }
   ],
   "source": [
    "df_customers = raw_filtered.sort_values(by=\"demand\", ascending=1)\n",
    "n_customers = len(df_customers.index)\n",
    "\n",
    "df_customers['demand_daily'] = df_customers['demand']\n",
    "df_customers['demand_daily'] = df_customers['demand_daily'].astype(\"int64\")\n",
    "df_customers = df_customers[df_customers.demand_daily >0].sort_values(by=\"demand_daily\",ascending=True).reset_index()\n",
    "\n",
    "logger.info(f\"N rows: {len(df_customers.index)}\")"
   ]
  },
  {
   "cell_type": "code",
   "execution_count": 15,
   "id": "8de9b557",
   "metadata": {},
   "outputs": [
    {
     "name": "stderr",
     "output_type": "stream",
     "text": [
      "INFO:__main__:rows: 71774\n"
     ]
    }
   ],
   "source": [
    "list_demand_daily = df_customers['demand_daily'].to_list()\n",
    "logger.info(f\"rows: {len(list_demand_daily)}\")"
   ]
  },
  {
   "cell_type": "code",
   "execution_count": 18,
   "id": "b83d8e6e-35c3-4145-adea-1cd1cdaadf33",
   "metadata": {},
   "outputs": [
    {
     "data": {
      "text/html": [
       "<div>\n",
       "<style scoped>\n",
       "    .dataframe tbody tr th:only-of-type {\n",
       "        vertical-align: middle;\n",
       "    }\n",
       "\n",
       "    .dataframe tbody tr th {\n",
       "        vertical-align: top;\n",
       "    }\n",
       "\n",
       "    .dataframe thead th {\n",
       "        text-align: right;\n",
       "    }\n",
       "</style>\n",
       "<table border=\"1\" class=\"dataframe\">\n",
       "  <thead>\n",
       "    <tr style=\"text-align: right;\">\n",
       "      <th></th>\n",
       "      <th></th>\n",
       "      <th>sum_demand_daily</th>\n",
       "    </tr>\n",
       "    <tr>\n",
       "      <th>year</th>\n",
       "      <th>month</th>\n",
       "      <th></th>\n",
       "    </tr>\n",
       "  </thead>\n",
       "  <tbody>\n",
       "    <tr>\n",
       "      <th rowspan=\"12\" valign=\"top\">2020</th>\n",
       "      <th>1</th>\n",
       "      <td>5524</td>\n",
       "    </tr>\n",
       "    <tr>\n",
       "      <th>2</th>\n",
       "      <td>5545</td>\n",
       "    </tr>\n",
       "    <tr>\n",
       "      <th>3</th>\n",
       "      <td>3651</td>\n",
       "    </tr>\n",
       "    <tr>\n",
       "      <th>4</th>\n",
       "      <td>3136</td>\n",
       "    </tr>\n",
       "    <tr>\n",
       "      <th>5</th>\n",
       "      <td>4368</td>\n",
       "    </tr>\n",
       "    <tr>\n",
       "      <th>6</th>\n",
       "      <td>5220</td>\n",
       "    </tr>\n",
       "    <tr>\n",
       "      <th>7</th>\n",
       "      <td>5766</td>\n",
       "    </tr>\n",
       "    <tr>\n",
       "      <th>8</th>\n",
       "      <td>4240</td>\n",
       "    </tr>\n",
       "    <tr>\n",
       "      <th>9</th>\n",
       "      <td>5722</td>\n",
       "    </tr>\n",
       "    <tr>\n",
       "      <th>10</th>\n",
       "      <td>7360</td>\n",
       "    </tr>\n",
       "    <tr>\n",
       "      <th>11</th>\n",
       "      <td>7693</td>\n",
       "    </tr>\n",
       "    <tr>\n",
       "      <th>12</th>\n",
       "      <td>9925</td>\n",
       "    </tr>\n",
       "    <tr>\n",
       "      <th rowspan=\"12\" valign=\"top\">2021</th>\n",
       "      <th>1</th>\n",
       "      <td>6619</td>\n",
       "    </tr>\n",
       "    <tr>\n",
       "      <th>2</th>\n",
       "      <td>1100</td>\n",
       "    </tr>\n",
       "    <tr>\n",
       "      <th>3</th>\n",
       "      <td>6535</td>\n",
       "    </tr>\n",
       "    <tr>\n",
       "      <th>4</th>\n",
       "      <td>6865</td>\n",
       "    </tr>\n",
       "    <tr>\n",
       "      <th>5</th>\n",
       "      <td>6367</td>\n",
       "    </tr>\n",
       "    <tr>\n",
       "      <th>6</th>\n",
       "      <td>5801</td>\n",
       "    </tr>\n",
       "    <tr>\n",
       "      <th>7</th>\n",
       "      <td>7352</td>\n",
       "    </tr>\n",
       "    <tr>\n",
       "      <th>8</th>\n",
       "      <td>7357</td>\n",
       "    </tr>\n",
       "    <tr>\n",
       "      <th>9</th>\n",
       "      <td>8430</td>\n",
       "    </tr>\n",
       "    <tr>\n",
       "      <th>10</th>\n",
       "      <td>9648</td>\n",
       "    </tr>\n",
       "    <tr>\n",
       "      <th>11</th>\n",
       "      <td>8676</td>\n",
       "    </tr>\n",
       "    <tr>\n",
       "      <th>12</th>\n",
       "      <td>11985</td>\n",
       "    </tr>\n",
       "    <tr>\n",
       "      <th rowspan=\"12\" valign=\"top\">2022</th>\n",
       "      <th>1</th>\n",
       "      <td>7783</td>\n",
       "    </tr>\n",
       "    <tr>\n",
       "      <th>2</th>\n",
       "      <td>10302</td>\n",
       "    </tr>\n",
       "    <tr>\n",
       "      <th>3</th>\n",
       "      <td>10233</td>\n",
       "    </tr>\n",
       "    <tr>\n",
       "      <th>4</th>\n",
       "      <td>9306</td>\n",
       "    </tr>\n",
       "    <tr>\n",
       "      <th>5</th>\n",
       "      <td>9379</td>\n",
       "    </tr>\n",
       "    <tr>\n",
       "      <th>6</th>\n",
       "      <td>12658</td>\n",
       "    </tr>\n",
       "    <tr>\n",
       "      <th>7</th>\n",
       "      <td>11005</td>\n",
       "    </tr>\n",
       "    <tr>\n",
       "      <th>8</th>\n",
       "      <td>11064</td>\n",
       "    </tr>\n",
       "    <tr>\n",
       "      <th>9</th>\n",
       "      <td>12869</td>\n",
       "    </tr>\n",
       "    <tr>\n",
       "      <th>10</th>\n",
       "      <td>14344</td>\n",
       "    </tr>\n",
       "    <tr>\n",
       "      <th>11</th>\n",
       "      <td>13880</td>\n",
       "    </tr>\n",
       "    <tr>\n",
       "      <th>12</th>\n",
       "      <td>17543</td>\n",
       "    </tr>\n",
       "  </tbody>\n",
       "</table>\n",
       "</div>"
      ],
      "text/plain": [
       "            sum_demand_daily\n",
       "year month                  \n",
       "2020 1                  5524\n",
       "     2                  5545\n",
       "     3                  3651\n",
       "     4                  3136\n",
       "     5                  4368\n",
       "     6                  5220\n",
       "     7                  5766\n",
       "     8                  4240\n",
       "     9                  5722\n",
       "     10                 7360\n",
       "     11                 7693\n",
       "     12                 9925\n",
       "2021 1                  6619\n",
       "     2                  1100\n",
       "     3                  6535\n",
       "     4                  6865\n",
       "     5                  6367\n",
       "     6                  5801\n",
       "     7                  7352\n",
       "     8                  7357\n",
       "     9                  8430\n",
       "     10                 9648\n",
       "     11                 8676\n",
       "     12                11985\n",
       "2022 1                  7783\n",
       "     2                 10302\n",
       "     3                 10233\n",
       "     4                  9306\n",
       "     5                  9379\n",
       "     6                 12658\n",
       "     7                 11005\n",
       "     8                 11064\n",
       "     9                 12869\n",
       "     10                14344\n",
       "     11                13880\n",
       "     12                17543"
      ]
     },
     "execution_count": 18,
     "metadata": {},
     "output_type": "execute_result"
    }
   ],
   "source": [
    "df_customers.groupby(['year','month']).agg(\n",
    "    sum_demand_daily=('demand_daily','sum')\n",
    ")"
   ]
  },
  {
   "cell_type": "markdown",
   "id": "35c24ad5",
   "metadata": {},
   "source": [
    "## A. Compute number of required layers\n",
    "\n",
    "This approach consider the Kmeans algorithm to compute the ideal number of layer required, we used two metrics to determinate what is the best number of layers"
   ]
  },
  {
   "cell_type": "code",
   "execution_count": null,
   "id": "2f34c8c3",
   "metadata": {},
   "outputs": [],
   "source": [
    "x = list_demand_daily\n",
    "\n",
    "# set seed\n",
    "SEED = 100\n",
    "\n",
    "k_values = range(1, 11)\n",
    "\n",
    "# score: elbow\n",
    "inertia_values = []\n",
    "\n",
    "for k in k_values:\n",
    "    kmeans = KMeans(n_clusters=k, random_state=SEED)\n",
    "    \n",
    "    kmeans.fit(np.array(x).reshape(-1, 1))\n",
    "    inertia_values.append(kmeans.inertia_)\n",
    "\n",
    "# Graficar la curva de la suma de las distancias cuadradas en función de K\n",
    "plt.plot(k_values, inertia_values, 'bx-', label='Elbow')\n",
    "plt.xlabel('Number of layers (K)')\n",
    "plt.ylabel('Inertia')\n",
    "plt.title('Elbow Method')\n",
    "plt.legend()\n",
    "plt.show()"
   ]
  },
  {
   "cell_type": "code",
   "execution_count": null,
   "id": "743302f7",
   "metadata": {},
   "outputs": [],
   "source": [
    "labels_by_k = []\n",
    "for k_selected in [3]:\n",
    "    logger.info(f\"[Layers] Number of layers selected is {k_selected} \\n\")\n",
    "    kmeans = KMeans(n_clusters=k_selected, random_state=SEED)\n",
    "    kmeans.fit(np.array(x).reshape(-1, 1))\n",
    "\n",
    "    labels = kmeans.labels_\n",
    "    centroids = kmeans.cluster_centers_\n",
    "\n",
    "    for k in range(k_selected):\n",
    "        cluster_data = np.array(x)[labels == k]\n",
    "        #print(f\"Cluster {k+1}: {cluster_data}\")\n",
    "        std_dev = np.std(cluster_data)\n",
    "        mean_ = np.mean(cluster_data)\n",
    "        logger.info(\"Layer {0}: Standart Desviation = {1} - Mean = {2}\".format(k+1, std_dev, mean_))\n",
    "        perc = len(cluster_data) * 100 / len(x)\n",
    "        logger.info(f\"Layer {k+1}: number of customers {len(cluster_data)} - {perc:.2f}% of total \\n\")\n",
    "    logger.info(f\"Total customers: {len(x)} \\n\\n\\n\")\n",
    "    labels_by_k.append(labels)"
   ]
  },
  {
   "cell_type": "code",
   "execution_count": null,
   "id": "f7b4c269",
   "metadata": {},
   "outputs": [],
   "source": [
    "df_customers[\"layer_strategy_1\"] = labels_by_k[0] # using 3 layers"
   ]
  },
  {
   "cell_type": "markdown",
   "id": "cdf329c6",
   "metadata": {},
   "source": [
    "## B. Generate Squared - Grid"
   ]
  },
  {
   "cell_type": "code",
   "execution_count": null,
   "id": "e0b26a52-ca93-45e4-9d88-c54825f6b5dc",
   "metadata": {},
   "outputs": [],
   "source": [
    "import os, sys\n",
    "project_home = \"/Users/pitehrhurtado/Documents/Operation-Researchs/clustering_discretization/src\"\n",
    "if project_home not in sys.path:\n",
    "    sys.path = [project_home] + sys.path"
   ]
  },
  {
   "cell_type": "code",
   "execution_count": null,
   "id": "0b5781af",
   "metadata": {},
   "outputs": [],
   "source": [
    "from app.discretization.grid import GridCreator"
   ]
  },
  {
   "cell_type": "code",
   "execution_count": null,
   "id": "d2e717fd",
   "metadata": {},
   "outputs": [],
   "source": [
    "grid_creator = GridCreator(df=df_customers,km_distance=1)"
   ]
  },
  {
   "cell_type": "code",
   "execution_count": null,
   "id": "5a112527",
   "metadata": {},
   "outputs": [],
   "source": [
    "df_output = grid_creator.run()\n",
    "grid_df = grid_creator.geo.copy()"
   ]
  },
  {
   "cell_type": "markdown",
   "id": "5bfb6243",
   "metadata": {},
   "source": [
    "## C. Plot Grid"
   ]
  },
  {
   "cell_type": "code",
   "execution_count": null,
   "id": "bb8046e0",
   "metadata": {},
   "outputs": [],
   "source": [
    "from app.plot_grid.plot_grid import PlotGrid"
   ]
  },
  {
   "cell_type": "code",
   "execution_count": null,
   "id": "4c5324df",
   "metadata": {},
   "outputs": [],
   "source": [
    "plotter = PlotGrid(\n",
    "    grid_geo = grid_df,\n",
    "    df = df_output,\n",
    ")"
   ]
  },
  {
   "cell_type": "code",
   "execution_count": null,
   "id": "322e2999",
   "metadata": {},
   "outputs": [],
   "source": [
    "plotter.plot_density_customer()"
   ]
  },
  {
   "cell_type": "code",
   "execution_count": null,
   "id": "c04c7b61",
   "metadata": {},
   "outputs": [],
   "source": [
    "plotter.plot_grid_by_metric(metric=\"std\")"
   ]
  },
  {
   "cell_type": "markdown",
   "id": "f012f325",
   "metadata": {},
   "source": [
    "## D. Plot Grid by LAYER"
   ]
  },
  {
   "cell_type": "markdown",
   "id": "2d88d678",
   "metadata": {},
   "source": [
    "##### Consideration\n",
    "color orange is used when pixel have number of customer least than 20"
   ]
  },
  {
   "cell_type": "code",
   "execution_count": null,
   "id": "3c304267",
   "metadata": {},
   "outputs": [],
   "source": [
    "def plot_by_layer(layer: int, df: pd.DataFrame, geo: gpd.GeoDataFrame, strategy: str) -> None:\n",
    "    \"\"\"\n",
    "    \"\"\"\n",
    "    df_filtered = df[df[strategy] == layer].reset_index(drop=True)\n",
    "    plotter = PlotGrid(\n",
    "        grid_geo = geo,\n",
    "        df = df_filtered,\n",
    "    )\n",
    "    logger.info(f\"[PLOT-BY-LAYER] Layer {layer} is plotting\")\n",
    "    # n customer per pixel\n",
    "    plotter.plot_density_customer()\n",
    "    \n",
    "    # std per pixel\n",
    "    plotter.plot_grid_by_metric(metric=\"std\")\n",
    "    \n",
    "    # mean per pixel\n",
    "    plotter.plot_grid_by_metric(metric=\"mean\")\n",
    "    "
   ]
  },
  {
   "cell_type": "markdown",
   "id": "d8d9c2e9",
   "metadata": {},
   "source": [
    "# Considering 3-Layers"
   ]
  },
  {
   "cell_type": "code",
   "execution_count": null,
   "id": "58fafb37",
   "metadata": {
    "scrolled": true
   },
   "outputs": [],
   "source": [
    "# LAYER 0\n",
    "plot_by_layer(\n",
    "    layer=0,\n",
    "    df=df_output,\n",
    "    geo=grid_df,\n",
    "    strategy = \"layer_strategy_1\"\n",
    ")"
   ]
  },
  {
   "cell_type": "code",
   "execution_count": null,
   "id": "e1b96737",
   "metadata": {},
   "outputs": [],
   "source": [
    "# LAYER 1\n",
    "plot_by_layer(\n",
    "    layer=1,\n",
    "    df=df_output,\n",
    "    geo=grid_df,\n",
    "    strategy=\"layer_strategy_1\"\n",
    ")"
   ]
  },
  {
   "cell_type": "code",
   "execution_count": null,
   "id": "991a3384-caf9-49b8-b615-9f861cd242a0",
   "metadata": {},
   "outputs": [],
   "source": [
    "# LAYER 2\n",
    "plot_by_layer(\n",
    "    layer=2,\n",
    "    df=df_output,\n",
    "    geo=grid_df,\n",
    "    strategy=\"layer_strategy_1\"\n",
    ")"
   ]
  },
  {
   "cell_type": "code",
   "execution_count": null,
   "id": "70b38d75-8060-4efe-8b06-6f9d0fcbf298",
   "metadata": {},
   "outputs": [],
   "source": [
    "grid_df.rename(columns={\"cell_id\":\"pixel_id\"}, inplace=True)"
   ]
  },
  {
   "cell_type": "code",
   "execution_count": null,
   "id": "b76831f4-06c4-4149-8574-f3f84701f3c7",
   "metadata": {},
   "outputs": [],
   "source": [
    "df_output.drop(['index'], axis=1, inplace=True)\n",
    "df_output.rename(columns={\"layer_strategy_1\":\"layer\"}, inplace=True)"
   ]
  },
  {
   "cell_type": "markdown",
   "id": "0b8da9eb",
   "metadata": {},
   "source": [
    "#### Saving data output"
   ]
  },
  {
   "cell_type": "code",
   "execution_count": null,
   "id": "ca7a3ebe",
   "metadata": {},
   "outputs": [],
   "source": [
    "grid_df.to_file(\"../data/geodf.geojson\", driver='GeoJSON')"
   ]
  },
  {
   "cell_type": "code",
   "execution_count": null,
   "id": "17580ae7",
   "metadata": {},
   "outputs": [],
   "source": [
    "df_output.to_csv(\"../data/output_layer_process.csv\", index=False)"
   ]
  },
  {
   "cell_type": "code",
   "execution_count": null,
   "id": "26dd7e5e",
   "metadata": {},
   "outputs": [],
   "source": []
  }
 ],
 "metadata": {
  "kernelspec": {
   "display_name": "Python 3 (ipykernel)",
   "language": "python",
   "name": "python3"
  },
  "language_info": {
   "codemirror_mode": {
    "name": "ipython",
    "version": 3
   },
   "file_extension": ".py",
   "mimetype": "text/x-python",
   "name": "python",
   "nbconvert_exporter": "python",
   "pygments_lexer": "ipython3",
   "version": "3.10.10"
  }
 },
 "nbformat": 4,
 "nbformat_minor": 5
}
