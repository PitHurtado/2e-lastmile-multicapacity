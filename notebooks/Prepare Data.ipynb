{
 "cells": [
  {
   "cell_type": "code",
   "execution_count": 1,
   "id": "c756b13b-2160-4ddd-a766-b5d8b7e7ed6f",
   "metadata": {},
   "outputs": [],
   "source": [
    "import os, sys\n",
    "project_home = \"/Users/pitehrhurtado/Documents/Operation-Researchs/multiperiod-2e\"\n",
    "if project_home not in sys.path:\n",
    "    sys.path = [project_home] + sys.path"
   ]
  },
  {
   "cell_type": "code",
   "execution_count": 3,
   "id": "d7970d84-1aaa-4d3e-bc2e-53de662a90b8",
   "metadata": {},
   "outputs": [],
   "source": [
    "from src.app.get_data import Data"
   ]
  },
  {
   "cell_type": "code",
   "execution_count": 4,
   "id": "caf03e90-49fb-49e1-8f94-cf090f9ae068",
   "metadata": {},
   "outputs": [],
   "source": [
    "import logging\n",
    "logger = logging.getLogger(__name__)\n",
    "logging.basicConfig(level=logging.INFO)"
   ]
  },
  {
   "cell_type": "markdown",
   "id": "7f5d9fd6-4e1d-4d2c-8a07-6940aec62d44",
   "metadata": {},
   "source": [
    "## Read Data"
   ]
  },
  {
   "cell_type": "markdown",
   "id": "9349d41b-8492-4e4a-a2c1-1f40bce9b6c5",
   "metadata": {},
   "source": []
  }
 ],
 "metadata": {
  "kernelspec": {
   "display_name": "Python 3 (ipykernel)",
   "language": "python",
   "name": "python3"
  },
  "language_info": {
   "codemirror_mode": {
    "name": "ipython",
    "version": 3
   },
   "file_extension": ".py",
   "mimetype": "text/x-python",
   "name": "python",
   "nbconvert_exporter": "python",
   "pygments_lexer": "ipython3",
   "version": "3.10.10"
  }
 },
 "nbformat": 4,
 "nbformat_minor": 5
}
